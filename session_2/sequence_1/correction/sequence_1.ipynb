{
 "cells": [
  {
   "cell_type": "markdown",
   "metadata": {},
   "source": [
    "# Atelier Python : manipuler et visualiser des tableaux de données avec Pandas.\n",
    "\n",
    "## Premiers pas dans un *notebook*"
   ]
  },
  {
   "cell_type": "markdown",
   "metadata": {},
   "source": [
    "Le code dans la cellule suivante importe le module date du package datetime. Ensuite, il utilise la fonction today() du module date pour obtenir la date actuelle. Enfin, il affiche la date actuelle en utilisant la fonction print()."
   ]
  },
  {
   "cell_type": "code",
   "execution_count": 1,
   "metadata": {},
   "outputs": [
    {
     "name": "stdout",
     "output_type": "stream",
     "text": [
      "Nous sommes le 2024-02-27\n"
     ]
    }
   ],
   "source": [
    "## ---\n",
    "## Q2\n",
    "\n",
    "from datetime import date\n",
    "\n",
    "today = date.today()\n",
    "print(\"Nous sommes le\", today)"
   ]
  },
  {
   "cell_type": "markdown",
   "metadata": {},
   "source": [
    "La cellule suivante demande à l'utilisateur d'entrer son nom en affichant le message \"Quel est votre nom ?\" et stocke l'information dans une variable nommée `name`.\n",
    "Elle affiche ensuite le message \"Bonjour {name}, nous sommes le {today}\", où la variable `name` contient le texte donné par l'utilisateur, et la variable `today` provient de la cellule précédente. "
   ]
  },
  {
   "cell_type": "code",
   "execution_count": 2,
   "metadata": {},
   "outputs": [
    {
     "name": "stdout",
     "output_type": "stream",
     "text": [
      "Bonjour Test, nous sommes le 27/02/2024\n"
     ]
    }
   ],
   "source": [
    "## ---\n",
    "## Q3 & Q4\n",
    "\n",
    "name = input(\"Quel est votre nom ?\")\n",
    "print(f\"Bonjour {name}, nous sommes le {today.strftime('%d/%m/%Y')}\")\n",
    "# Bonus : `today.strftime('%d/%m/%Y')`\n",
    "# permet de formater la date `today` au format jour/mois/année !"
   ]
  },
  {
   "cell_type": "markdown",
   "metadata": {},
   "source": [
    "## Experimentations avec Pandas"
   ]
  },
  {
   "cell_type": "code",
   "execution_count": null,
   "metadata": {},
   "outputs": [],
   "source": [
    "import pandas as pd"
   ]
  },
  {
   "cell_type": "code",
   "execution_count": 4,
   "metadata": {},
   "outputs": [
    {
     "data": {
      "text/html": [
       "<div>\n",
       "<style scoped>\n",
       "    .dataframe tbody tr th:only-of-type {\n",
       "        vertical-align: middle;\n",
       "    }\n",
       "\n",
       "    .dataframe tbody tr th {\n",
       "        vertical-align: top;\n",
       "    }\n",
       "\n",
       "    .dataframe thead th {\n",
       "        text-align: right;\n",
       "    }\n",
       "</style>\n",
       "<table border=\"1\" class=\"dataframe\">\n",
       "  <thead>\n",
       "    <tr style=\"text-align: right;\">\n",
       "      <th></th>\n",
       "      <th>pop_an3_val</th>\n",
       "      <th>pop_an8_val</th>\n",
       "      <th>pop_1806_val</th>\n",
       "    </tr>\n",
       "    <tr>\n",
       "      <th>nom_cassini</th>\n",
       "      <th></th>\n",
       "      <th></th>\n",
       "      <th></th>\n",
       "    </tr>\n",
       "  </thead>\n",
       "  <tbody>\n",
       "    <tr>\n",
       "      <th>Neuf Village</th>\n",
       "      <td>110.0</td>\n",
       "      <td>100.0</td>\n",
       "      <td>142.0</td>\n",
       "    </tr>\n",
       "    <tr>\n",
       "      <th>Nider Wise</th>\n",
       "      <td>391.0</td>\n",
       "      <td>309.0</td>\n",
       "      <td>410.0</td>\n",
       "    </tr>\n",
       "    <tr>\n",
       "      <th>Haut Barville</th>\n",
       "      <td>46.0</td>\n",
       "      <td>60.0</td>\n",
       "      <td>47.0</td>\n",
       "    </tr>\n",
       "    <tr>\n",
       "      <th>Nusveiller</th>\n",
       "      <td>139.0</td>\n",
       "      <td>94.0</td>\n",
       "      <td>166.0</td>\n",
       "    </tr>\n",
       "    <tr>\n",
       "      <th>Ogy</th>\n",
       "      <td>153.0</td>\n",
       "      <td>142.0</td>\n",
       "      <td>140.0</td>\n",
       "    </tr>\n",
       "    <tr>\n",
       "      <th>Rierange</th>\n",
       "      <td>NaN</td>\n",
       "      <td>NaN</td>\n",
       "      <td>NaN</td>\n",
       "    </tr>\n",
       "    <tr>\n",
       "      <th>Braistroff</th>\n",
       "      <td>75.0</td>\n",
       "      <td>53.0</td>\n",
       "      <td>59.0</td>\n",
       "    </tr>\n",
       "    <tr>\n",
       "      <th>Lamestroff</th>\n",
       "      <td>314.0</td>\n",
       "      <td>303.0</td>\n",
       "      <td>287.0</td>\n",
       "    </tr>\n",
       "  </tbody>\n",
       "</table>\n",
       "</div>"
      ],
      "text/plain": [
       "               pop_an3_val  pop_an8_val  pop_1806_val\n",
       "nom_cassini                                          \n",
       "Neuf Village         110.0        100.0         142.0\n",
       "Nider Wise           391.0        309.0         410.0\n",
       "Haut Barville         46.0         60.0          47.0\n",
       "Nusveiller           139.0         94.0         166.0\n",
       "Ogy                  153.0        142.0         140.0\n",
       "Rierange               NaN          NaN           NaN\n",
       "Braistroff            75.0         53.0          59.0\n",
       "Lamestroff           314.0        303.0         287.0"
      ]
     },
     "execution_count": 4,
     "metadata": {},
     "output_type": "execute_result"
    }
   ],
   "source": [
    "# Q7\n",
    "data = {\n",
    "    \"nom_cassini\": [\n",
    "        \"Neuf Village\",\n",
    "        \"Nider Wise\",\n",
    "        \"Haut Barville\",\n",
    "        \"Nusveiller\",\n",
    "        \"Ogy\",\n",
    "        \"Rierange\",\n",
    "        \"Braistroff\",\n",
    "        \"Lamestroff\",\n",
    "    ],\n",
    "    \"pop_an3_val\": [110, 391, 46, 139, 153, None, 75, 314],\n",
    "    \"pop_an8_val\": [100, 309, 60, 94, 142, None, 53, 303],\n",
    "    \"pop_1806_val\": [142, 410, 47, 166, 140, None, 59, 287],\n",
    "}\n",
    "\n",
    "populations = pd.DataFrame(data)\n",
    "populations.set_index(\"nom_cassini\", inplace=True)\n",
    "populations"
   ]
  },
  {
   "cell_type": "markdown",
   "metadata": {},
   "source": [
    "✏️ Q8. Sélections. "
   ]
  },
  {
   "cell_type": "code",
   "execution_count": 5,
   "metadata": {},
   "outputs": [
    {
     "name": "stdout",
     "output_type": "stream",
     "text": [
      "1. Population en 1806\n"
     ]
    },
    {
     "data": {
      "text/plain": [
       "nom_cassini\n",
       "Neuf Village     142.0\n",
       "Nider Wise       410.0\n",
       "Haut Barville     47.0\n",
       "Nusveiller       166.0\n",
       "Ogy              140.0\n",
       "Rierange           NaN\n",
       "Braistroff        59.0\n",
       "Lamestroff       287.0\n",
       "Name: pop_1806_val, dtype: float64"
      ]
     },
     "metadata": {},
     "output_type": "display_data"
    },
    {
     "name": "stdout",
     "output_type": "stream",
     "text": [
      "2. Population en l'an 3 et en l'an 8\n"
     ]
    },
    {
     "data": {
      "text/html": [
       "<div>\n",
       "<style scoped>\n",
       "    .dataframe tbody tr th:only-of-type {\n",
       "        vertical-align: middle;\n",
       "    }\n",
       "\n",
       "    .dataframe tbody tr th {\n",
       "        vertical-align: top;\n",
       "    }\n",
       "\n",
       "    .dataframe thead th {\n",
       "        text-align: right;\n",
       "    }\n",
       "</style>\n",
       "<table border=\"1\" class=\"dataframe\">\n",
       "  <thead>\n",
       "    <tr style=\"text-align: right;\">\n",
       "      <th></th>\n",
       "      <th>pop_an3_val</th>\n",
       "      <th>pop_an8_val</th>\n",
       "    </tr>\n",
       "    <tr>\n",
       "      <th>nom_cassini</th>\n",
       "      <th></th>\n",
       "      <th></th>\n",
       "    </tr>\n",
       "  </thead>\n",
       "  <tbody>\n",
       "    <tr>\n",
       "      <th>Neuf Village</th>\n",
       "      <td>110.0</td>\n",
       "      <td>100.0</td>\n",
       "    </tr>\n",
       "    <tr>\n",
       "      <th>Nider Wise</th>\n",
       "      <td>391.0</td>\n",
       "      <td>309.0</td>\n",
       "    </tr>\n",
       "    <tr>\n",
       "      <th>Haut Barville</th>\n",
       "      <td>46.0</td>\n",
       "      <td>60.0</td>\n",
       "    </tr>\n",
       "    <tr>\n",
       "      <th>Nusveiller</th>\n",
       "      <td>139.0</td>\n",
       "      <td>94.0</td>\n",
       "    </tr>\n",
       "    <tr>\n",
       "      <th>Ogy</th>\n",
       "      <td>153.0</td>\n",
       "      <td>142.0</td>\n",
       "    </tr>\n",
       "    <tr>\n",
       "      <th>Rierange</th>\n",
       "      <td>NaN</td>\n",
       "      <td>NaN</td>\n",
       "    </tr>\n",
       "    <tr>\n",
       "      <th>Braistroff</th>\n",
       "      <td>75.0</td>\n",
       "      <td>53.0</td>\n",
       "    </tr>\n",
       "    <tr>\n",
       "      <th>Lamestroff</th>\n",
       "      <td>314.0</td>\n",
       "      <td>303.0</td>\n",
       "    </tr>\n",
       "  </tbody>\n",
       "</table>\n",
       "</div>"
      ],
      "text/plain": [
       "               pop_an3_val  pop_an8_val\n",
       "nom_cassini                            \n",
       "Neuf Village         110.0        100.0\n",
       "Nider Wise           391.0        309.0\n",
       "Haut Barville         46.0         60.0\n",
       "Nusveiller           139.0         94.0\n",
       "Ogy                  153.0        142.0\n",
       "Rierange               NaN          NaN\n",
       "Braistroff            75.0         53.0\n",
       "Lamestroff           314.0        303.0"
      ]
     },
     "metadata": {},
     "output_type": "display_data"
    },
    {
     "name": "stdout",
     "output_type": "stream",
     "text": [
      "3. Population de Neuf Village\n"
     ]
    },
    {
     "data": {
      "text/plain": [
       "pop_an3_val     110.0\n",
       "pop_an8_val     100.0\n",
       "pop_1806_val    142.0\n",
       "Name: Neuf Village, dtype: float64"
      ]
     },
     "metadata": {},
     "output_type": "display_data"
    },
    {
     "name": "stdout",
     "output_type": "stream",
     "text": [
      "4. Population des villages de Neuf Village à Ogy\n"
     ]
    },
    {
     "data": {
      "text/html": [
       "<div>\n",
       "<style scoped>\n",
       "    .dataframe tbody tr th:only-of-type {\n",
       "        vertical-align: middle;\n",
       "    }\n",
       "\n",
       "    .dataframe tbody tr th {\n",
       "        vertical-align: top;\n",
       "    }\n",
       "\n",
       "    .dataframe thead th {\n",
       "        text-align: right;\n",
       "    }\n",
       "</style>\n",
       "<table border=\"1\" class=\"dataframe\">\n",
       "  <thead>\n",
       "    <tr style=\"text-align: right;\">\n",
       "      <th></th>\n",
       "      <th>pop_an3_val</th>\n",
       "      <th>pop_an8_val</th>\n",
       "      <th>pop_1806_val</th>\n",
       "    </tr>\n",
       "    <tr>\n",
       "      <th>nom_cassini</th>\n",
       "      <th></th>\n",
       "      <th></th>\n",
       "      <th></th>\n",
       "    </tr>\n",
       "  </thead>\n",
       "  <tbody>\n",
       "    <tr>\n",
       "      <th>Neuf Village</th>\n",
       "      <td>110.0</td>\n",
       "      <td>100.0</td>\n",
       "      <td>142.0</td>\n",
       "    </tr>\n",
       "    <tr>\n",
       "      <th>Nider Wise</th>\n",
       "      <td>391.0</td>\n",
       "      <td>309.0</td>\n",
       "      <td>410.0</td>\n",
       "    </tr>\n",
       "    <tr>\n",
       "      <th>Haut Barville</th>\n",
       "      <td>46.0</td>\n",
       "      <td>60.0</td>\n",
       "      <td>47.0</td>\n",
       "    </tr>\n",
       "    <tr>\n",
       "      <th>Nusveiller</th>\n",
       "      <td>139.0</td>\n",
       "      <td>94.0</td>\n",
       "      <td>166.0</td>\n",
       "    </tr>\n",
       "    <tr>\n",
       "      <th>Ogy</th>\n",
       "      <td>153.0</td>\n",
       "      <td>142.0</td>\n",
       "      <td>140.0</td>\n",
       "    </tr>\n",
       "  </tbody>\n",
       "</table>\n",
       "</div>"
      ],
      "text/plain": [
       "               pop_an3_val  pop_an8_val  pop_1806_val\n",
       "nom_cassini                                          \n",
       "Neuf Village         110.0        100.0         142.0\n",
       "Nider Wise           391.0        309.0         410.0\n",
       "Haut Barville         46.0         60.0          47.0\n",
       "Nusveiller           139.0         94.0         166.0\n",
       "Ogy                  153.0        142.0         140.0"
      ]
     },
     "metadata": {},
     "output_type": "display_data"
    }
   ],
   "source": [
    "# ---\n",
    "# Q8\n",
    "\n",
    "# Astuce bonus : au lieu de print, on peut utiliser display pour afficher le DataFrame\n",
    "# Cela permet d'afficher une DataFrame avec la mise en forme de Jupyter\n",
    "# Attention, ça ne fonctionne que dans un notebook Jupyter !\n",
    "\n",
    "# Sélection de la colonne pop_1806_val\n",
    "print(\"1. Population en 1806\")\n",
    "display(populations[\"pop_1806_val\"])\n",
    "\n",
    "# Sélection des colonnes pop_an3_val et pop_an8_val\n",
    "print(\"2. Population en l'an 3 et en l'an 8\")\n",
    "display(populations[[\"pop_an3_val\", \"pop_an8_val\"]])\n",
    "\n",
    "# Sélection de la ligne portant l'étiquette 'Neuf Village'\n",
    "print(\"3. Population de Neuf Village\")\n",
    "display(populations.loc[\"Neuf Village\"])\n",
    "\n",
    "# Sélection des lignes 'Neuf Village' à 'Ogy'\n",
    "print(\"4. Population des villages de Neuf Village à Ogy\")\n",
    "display(populations.loc[\"Neuf Village\":\"Ogy\"])"
   ]
  },
  {
   "cell_type": "markdown",
   "metadata": {},
   "source": [
    "✏️ Q9. Sélection conditionnelle : masques booléens"
   ]
  },
  {
   "cell_type": "code",
   "execution_count": 6,
   "metadata": {},
   "outputs": [
    {
     "name": "stdout",
     "output_type": "stream",
     "text": [
      "Masque booléen : vrai si la population en l'an 3 est supérieure à 100, faux sinon\n"
     ]
    },
    {
     "data": {
      "text/plain": [
       "nom_cassini\n",
       "Neuf Village      True\n",
       "Nider Wise        True\n",
       "Haut Barville    False\n",
       "Nusveiller        True\n",
       "Ogy               True\n",
       "Rierange         False\n",
       "Braistroff       False\n",
       "Lamestroff        True\n",
       "Name: pop_an3_val, dtype: bool"
      ]
     },
     "metadata": {},
     "output_type": "display_data"
    },
    {
     "name": "stdout",
     "output_type": "stream",
     "text": [
      "Filtrage de la table par le masque précédent : seules les lignes pour lesquelles le masque est vrai sont conservées\n"
     ]
    },
    {
     "data": {
      "text/html": [
       "<div>\n",
       "<style scoped>\n",
       "    .dataframe tbody tr th:only-of-type {\n",
       "        vertical-align: middle;\n",
       "    }\n",
       "\n",
       "    .dataframe tbody tr th {\n",
       "        vertical-align: top;\n",
       "    }\n",
       "\n",
       "    .dataframe thead th {\n",
       "        text-align: right;\n",
       "    }\n",
       "</style>\n",
       "<table border=\"1\" class=\"dataframe\">\n",
       "  <thead>\n",
       "    <tr style=\"text-align: right;\">\n",
       "      <th></th>\n",
       "      <th>pop_an3_val</th>\n",
       "      <th>pop_an8_val</th>\n",
       "      <th>pop_1806_val</th>\n",
       "    </tr>\n",
       "    <tr>\n",
       "      <th>nom_cassini</th>\n",
       "      <th></th>\n",
       "      <th></th>\n",
       "      <th></th>\n",
       "    </tr>\n",
       "  </thead>\n",
       "  <tbody>\n",
       "    <tr>\n",
       "      <th>Neuf Village</th>\n",
       "      <td>110.0</td>\n",
       "      <td>100.0</td>\n",
       "      <td>142.0</td>\n",
       "    </tr>\n",
       "    <tr>\n",
       "      <th>Nider Wise</th>\n",
       "      <td>391.0</td>\n",
       "      <td>309.0</td>\n",
       "      <td>410.0</td>\n",
       "    </tr>\n",
       "    <tr>\n",
       "      <th>Nusveiller</th>\n",
       "      <td>139.0</td>\n",
       "      <td>94.0</td>\n",
       "      <td>166.0</td>\n",
       "    </tr>\n",
       "    <tr>\n",
       "      <th>Ogy</th>\n",
       "      <td>153.0</td>\n",
       "      <td>142.0</td>\n",
       "      <td>140.0</td>\n",
       "    </tr>\n",
       "    <tr>\n",
       "      <th>Lamestroff</th>\n",
       "      <td>314.0</td>\n",
       "      <td>303.0</td>\n",
       "      <td>287.0</td>\n",
       "    </tr>\n",
       "  </tbody>\n",
       "</table>\n",
       "</div>"
      ],
      "text/plain": [
       "              pop_an3_val  pop_an8_val  pop_1806_val\n",
       "nom_cassini                                         \n",
       "Neuf Village        110.0        100.0         142.0\n",
       "Nider Wise          391.0        309.0         410.0\n",
       "Nusveiller          139.0         94.0         166.0\n",
       "Ogy                 153.0        142.0         140.0\n",
       "Lamestroff          314.0        303.0         287.0"
      ]
     },
     "execution_count": 6,
     "metadata": {},
     "output_type": "execute_result"
    }
   ],
   "source": [
    "# ---\n",
    "# Q9\n",
    "\n",
    "print(\n",
    "    \"Masque booléen : vrai si la population en l'an 3 est supérieure à 100, faux sinon\"\n",
    ")\n",
    "display(populations[\"pop_an3_val\"] > 100)\n",
    "\n",
    "print(\n",
    "    \"Filtrage de la table par le masque précédent : seules les lignes pour lesquelles le masque est vrai sont conservées\"\n",
    ")\n",
    "populations[populations[\"pop_an3_val\"] > 100]"
   ]
  },
  {
   "cell_type": "code",
   "execution_count": 7,
   "metadata": {},
   "outputs": [
    {
     "name": "stdout",
     "output_type": "stream",
     "text": [
      "Villages dont la population en 1806 est inférieure à celle de l'an 3\n"
     ]
    },
    {
     "data": {
      "text/html": [
       "<div>\n",
       "<style scoped>\n",
       "    .dataframe tbody tr th:only-of-type {\n",
       "        vertical-align: middle;\n",
       "    }\n",
       "\n",
       "    .dataframe tbody tr th {\n",
       "        vertical-align: top;\n",
       "    }\n",
       "\n",
       "    .dataframe thead th {\n",
       "        text-align: right;\n",
       "    }\n",
       "</style>\n",
       "<table border=\"1\" class=\"dataframe\">\n",
       "  <thead>\n",
       "    <tr style=\"text-align: right;\">\n",
       "      <th></th>\n",
       "      <th>pop_an3_val</th>\n",
       "      <th>pop_an8_val</th>\n",
       "      <th>pop_1806_val</th>\n",
       "    </tr>\n",
       "    <tr>\n",
       "      <th>nom_cassini</th>\n",
       "      <th></th>\n",
       "      <th></th>\n",
       "      <th></th>\n",
       "    </tr>\n",
       "  </thead>\n",
       "  <tbody>\n",
       "    <tr>\n",
       "      <th>Ogy</th>\n",
       "      <td>153.0</td>\n",
       "      <td>142.0</td>\n",
       "      <td>140.0</td>\n",
       "    </tr>\n",
       "    <tr>\n",
       "      <th>Braistroff</th>\n",
       "      <td>75.0</td>\n",
       "      <td>53.0</td>\n",
       "      <td>59.0</td>\n",
       "    </tr>\n",
       "    <tr>\n",
       "      <th>Lamestroff</th>\n",
       "      <td>314.0</td>\n",
       "      <td>303.0</td>\n",
       "      <td>287.0</td>\n",
       "    </tr>\n",
       "  </tbody>\n",
       "</table>\n",
       "</div>"
      ],
      "text/plain": [
       "             pop_an3_val  pop_an8_val  pop_1806_val\n",
       "nom_cassini                                        \n",
       "Ogy                153.0        142.0         140.0\n",
       "Braistroff          75.0         53.0          59.0\n",
       "Lamestroff         314.0        303.0         287.0"
      ]
     },
     "metadata": {},
     "output_type": "display_data"
    }
   ],
   "source": [
    "# ---\n",
    "# Q9 - suite\n",
    "\n",
    "# Sélection des lignes dont la population en 1806 est inférieure à celle de l'an 3\n",
    "print(\"Villages dont la population en 1806 est inférieure à celle de l'an 3\")\n",
    "display(populations[populations[\"pop_1806_val\"] < populations[\"pop_an3_val\"]])"
   ]
  },
  {
   "cell_type": "markdown",
   "metadata": {},
   "source": [
    "✏️ Q10. Sélection conditionnelle multiple."
   ]
  },
  {
   "cell_type": "code",
   "execution_count": 8,
   "metadata": {},
   "outputs": [
    {
     "name": "stdout",
     "output_type": "stream",
     "text": [
      "Villages dont la population en 1806 est supérieure à 100 mais inférieure à celle de l'an III.\n"
     ]
    },
    {
     "data": {
      "text/html": [
       "<div>\n",
       "<style scoped>\n",
       "    .dataframe tbody tr th:only-of-type {\n",
       "        vertical-align: middle;\n",
       "    }\n",
       "\n",
       "    .dataframe tbody tr th {\n",
       "        vertical-align: top;\n",
       "    }\n",
       "\n",
       "    .dataframe thead th {\n",
       "        text-align: right;\n",
       "    }\n",
       "</style>\n",
       "<table border=\"1\" class=\"dataframe\">\n",
       "  <thead>\n",
       "    <tr style=\"text-align: right;\">\n",
       "      <th></th>\n",
       "      <th>pop_an3_val</th>\n",
       "      <th>pop_an8_val</th>\n",
       "      <th>pop_1806_val</th>\n",
       "    </tr>\n",
       "    <tr>\n",
       "      <th>nom_cassini</th>\n",
       "      <th></th>\n",
       "      <th></th>\n",
       "      <th></th>\n",
       "    </tr>\n",
       "  </thead>\n",
       "  <tbody>\n",
       "    <tr>\n",
       "      <th>Ogy</th>\n",
       "      <td>153.0</td>\n",
       "      <td>142.0</td>\n",
       "      <td>140.0</td>\n",
       "    </tr>\n",
       "    <tr>\n",
       "      <th>Lamestroff</th>\n",
       "      <td>314.0</td>\n",
       "      <td>303.0</td>\n",
       "      <td>287.0</td>\n",
       "    </tr>\n",
       "  </tbody>\n",
       "</table>\n",
       "</div>"
      ],
      "text/plain": [
       "             pop_an3_val  pop_an8_val  pop_1806_val\n",
       "nom_cassini                                        \n",
       "Ogy                153.0        142.0         140.0\n",
       "Lamestroff         314.0        303.0         287.0"
      ]
     },
     "execution_count": 8,
     "metadata": {},
     "output_type": "execute_result"
    }
   ],
   "source": [
    "# ---\n",
    "# Q10\n",
    "\n",
    "# Sélection des villages dont la population en 1806 est supérieure à 100 mais inférieure à celle de l'an III.\n",
    "print(\n",
    "    \"Villages dont la population en 1806 est supérieure à 100 mais inférieure à celle de l'an III.\"\n",
    ")\n",
    "populations[\n",
    "    (populations[\"pop_1806_val\"] < populations[\"pop_an3_val\"])\n",
    "    & (populations[\"pop_1806_val\"] > 100)\n",
    "]"
   ]
  },
  {
   "cell_type": "code",
   "execution_count": 9,
   "metadata": {},
   "outputs": [
    {
     "name": "stdout",
     "output_type": "stream",
     "text": [
      "Structure de la table avant nettoyage (8, 3)\n",
      "Structure de la table après nettoyage (7, 3)\n"
     ]
    }
   ],
   "source": [
    "# ---\n",
    "# Q11\n",
    "\n",
    "print(\"Structure de la table avant nettoyage\", populations.shape)\n",
    "populations.dropna(inplace=True, how=\"all\")\n",
    "print(\"Structure de la table après nettoyage\", populations.shape)"
   ]
  },
  {
   "cell_type": "markdown",
   "metadata": {},
   "source": [
    "## Évolution démographique des communes de France."
   ]
  },
  {
   "cell_type": "code",
   "execution_count": 10,
   "metadata": {},
   "outputs": [],
   "source": [
    "# ---\n",
    "# Q12\n",
    "\n",
    "communes = pd.read_csv(\"../data/communes_de_france.csv\", index_col=\"gid\")\n",
    "populations = pd.read_csv(\"../data/demographie_des_communes.csv\", index_col=\"gid\")"
   ]
  },
  {
   "cell_type": "code",
   "execution_count": 11,
   "metadata": {},
   "outputs": [],
   "source": [
    "# Suppression des communes sans population\n",
    "populations.dropna(\n",
    "    inplace=True, how=\"all\"\n",
    ")  # on supprime les lignes avec uniquement des NaN"
   ]
  },
  {
   "cell_type": "code",
   "execution_count": 12,
   "metadata": {},
   "outputs": [
    {
     "data": {
      "text/html": [
       "<div>\n",
       "<style scoped>\n",
       "    .dataframe tbody tr th:only-of-type {\n",
       "        vertical-align: middle;\n",
       "    }\n",
       "\n",
       "    .dataframe tbody tr th {\n",
       "        vertical-align: top;\n",
       "    }\n",
       "\n",
       "    .dataframe thead th {\n",
       "        text-align: right;\n",
       "    }\n",
       "</style>\n",
       "<table border=\"1\" class=\"dataframe\">\n",
       "  <thead>\n",
       "    <tr style=\"text-align: right;\">\n",
       "      <th></th>\n",
       "      <th>type_cassini</th>\n",
       "      <th>nom_cassini</th>\n",
       "      <th>nom_an3</th>\n",
       "      <th>nom_1801</th>\n",
       "      <th>nom_1999</th>\n",
       "      <th>insee_2021</th>\n",
       "      <th>subdelegation</th>\n",
       "      <th>intendance</th>\n",
       "      <th>departement_1999</th>\n",
       "      <th>is_position_1999</th>\n",
       "      <th>...</th>\n",
       "      <th>1931</th>\n",
       "      <th>1936</th>\n",
       "      <th>1946</th>\n",
       "      <th>1954</th>\n",
       "      <th>1962</th>\n",
       "      <th>1968</th>\n",
       "      <th>1975</th>\n",
       "      <th>1982</th>\n",
       "      <th>1990</th>\n",
       "      <th>1999</th>\n",
       "    </tr>\n",
       "    <tr>\n",
       "      <th>gid</th>\n",
       "      <th></th>\n",
       "      <th></th>\n",
       "      <th></th>\n",
       "      <th></th>\n",
       "      <th></th>\n",
       "      <th></th>\n",
       "      <th></th>\n",
       "      <th></th>\n",
       "      <th></th>\n",
       "      <th></th>\n",
       "      <th></th>\n",
       "      <th></th>\n",
       "      <th></th>\n",
       "      <th></th>\n",
       "      <th></th>\n",
       "      <th></th>\n",
       "      <th></th>\n",
       "      <th></th>\n",
       "      <th></th>\n",
       "      <th></th>\n",
       "      <th></th>\n",
       "    </tr>\n",
       "  </thead>\n",
       "  <tbody>\n",
       "    <tr>\n",
       "      <th>8513</th>\n",
       "      <td>hameau</td>\n",
       "      <td>Neuf Village</td>\n",
       "      <td>Neuvillage</td>\n",
       "      <td>Neufvillage</td>\n",
       "      <td>Neufvillage</td>\n",
       "      <td>57501</td>\n",
       "      <td>Dieuze</td>\n",
       "      <td>Lorraine et Barrois</td>\n",
       "      <td>57</td>\n",
       "      <td>True</td>\n",
       "      <td>...</td>\n",
       "      <td>43.0</td>\n",
       "      <td>49.0</td>\n",
       "      <td>68.0</td>\n",
       "      <td>58.0</td>\n",
       "      <td>65.0</td>\n",
       "      <td>69.0</td>\n",
       "      <td>68.0</td>\n",
       "      <td>44.0</td>\n",
       "      <td>43.0</td>\n",
       "      <td>50.0</td>\n",
       "    </tr>\n",
       "    <tr>\n",
       "      <th>8518</th>\n",
       "      <td>hameau</td>\n",
       "      <td>Nider Wise</td>\n",
       "      <td>Niedrevisse</td>\n",
       "      <td>Nidervisse</td>\n",
       "      <td>Niedervisse</td>\n",
       "      <td>57507</td>\n",
       "      <td>Sarrelouis</td>\n",
       "      <td>Trois Évêchés ou Pays Messin</td>\n",
       "      <td>57</td>\n",
       "      <td>True</td>\n",
       "      <td>...</td>\n",
       "      <td>213.0</td>\n",
       "      <td>220.0</td>\n",
       "      <td>176.0</td>\n",
       "      <td>186.0</td>\n",
       "      <td>175.0</td>\n",
       "      <td>174.0</td>\n",
       "      <td>152.0</td>\n",
       "      <td>157.0</td>\n",
       "      <td>174.0</td>\n",
       "      <td>197.0</td>\n",
       "    </tr>\n",
       "    <tr>\n",
       "      <th>8521</th>\n",
       "      <td>hameau</td>\n",
       "      <td>Haut Barville</td>\n",
       "      <td>Barville</td>\n",
       "      <td>Barville (Haute)</td>\n",
       "      <td>Barville-Haute</td>\n",
       "      <td>57509</td>\n",
       "      <td>Blamont</td>\n",
       "      <td>Lorraine et Barrois</td>\n",
       "      <td>57</td>\n",
       "      <td>False</td>\n",
       "      <td>...</td>\n",
       "      <td>NaN</td>\n",
       "      <td>NaN</td>\n",
       "      <td>NaN</td>\n",
       "      <td>NaN</td>\n",
       "      <td>NaN</td>\n",
       "      <td>NaN</td>\n",
       "      <td>NaN</td>\n",
       "      <td>NaN</td>\n",
       "      <td>NaN</td>\n",
       "      <td>NaN</td>\n",
       "    </tr>\n",
       "    <tr>\n",
       "      <th>8525</th>\n",
       "      <td>hameau</td>\n",
       "      <td>Nusveiller</td>\n",
       "      <td>Nousseweiller</td>\n",
       "      <td>Nousviller</td>\n",
       "      <td>Nousseviller-lès-Bitche</td>\n",
       "      <td>57513</td>\n",
       "      <td>Bitche</td>\n",
       "      <td>Lorraine et Barrois</td>\n",
       "      <td>57</td>\n",
       "      <td>True</td>\n",
       "      <td>...</td>\n",
       "      <td>246.0</td>\n",
       "      <td>242.0</td>\n",
       "      <td>82.0</td>\n",
       "      <td>172.0</td>\n",
       "      <td>186.0</td>\n",
       "      <td>166.0</td>\n",
       "      <td>155.0</td>\n",
       "      <td>142.0</td>\n",
       "      <td>141.0</td>\n",
       "      <td>134.0</td>\n",
       "    </tr>\n",
       "    <tr>\n",
       "      <th>8536</th>\n",
       "      <td>hameau</td>\n",
       "      <td>Ogy</td>\n",
       "      <td>Ogy</td>\n",
       "      <td>Ogy</td>\n",
       "      <td>Ogy</td>\n",
       "      <td>57482</td>\n",
       "      <td>Metz</td>\n",
       "      <td>Trois Évêchés ou Pays Messin</td>\n",
       "      <td>57</td>\n",
       "      <td>True</td>\n",
       "      <td>...</td>\n",
       "      <td>105.0</td>\n",
       "      <td>107.0</td>\n",
       "      <td>99.0</td>\n",
       "      <td>79.0</td>\n",
       "      <td>90.0</td>\n",
       "      <td>92.0</td>\n",
       "      <td>131.0</td>\n",
       "      <td>132.0</td>\n",
       "      <td>255.0</td>\n",
       "      <td>439.0</td>\n",
       "    </tr>\n",
       "  </tbody>\n",
       "</table>\n",
       "<p>5 rows × 45 columns</p>\n",
       "</div>"
      ],
      "text/plain": [
       "     type_cassini    nom_cassini        nom_an3          nom_1801  \\\n",
       "gid                                                                 \n",
       "8513       hameau   Neuf Village     Neuvillage       Neufvillage   \n",
       "8518       hameau     Nider Wise    Niedrevisse        Nidervisse   \n",
       "8521       hameau  Haut Barville       Barville  Barville (Haute)   \n",
       "8525       hameau     Nusveiller  Nousseweiller        Nousviller   \n",
       "8536       hameau            Ogy            Ogy               Ogy   \n",
       "\n",
       "                     nom_1999 insee_2021 subdelegation  \\\n",
       "gid                                                      \n",
       "8513              Neufvillage      57501        Dieuze   \n",
       "8518              Niedervisse      57507    Sarrelouis   \n",
       "8521           Barville-Haute      57509       Blamont   \n",
       "8525  Nousseviller-lès-Bitche      57513        Bitche   \n",
       "8536                      Ogy      57482          Metz   \n",
       "\n",
       "                        intendance departement_1999  is_position_1999  ...  \\\n",
       "gid                                                                    ...   \n",
       "8513           Lorraine et Barrois               57              True  ...   \n",
       "8518  Trois Évêchés ou Pays Messin               57              True  ...   \n",
       "8521           Lorraine et Barrois               57             False  ...   \n",
       "8525           Lorraine et Barrois               57              True  ...   \n",
       "8536  Trois Évêchés ou Pays Messin               57              True  ...   \n",
       "\n",
       "       1931   1936   1946   1954   1962   1968   1975   1982   1990   1999  \n",
       "gid                                                                         \n",
       "8513   43.0   49.0   68.0   58.0   65.0   69.0   68.0   44.0   43.0   50.0  \n",
       "8518  213.0  220.0  176.0  186.0  175.0  174.0  152.0  157.0  174.0  197.0  \n",
       "8521    NaN    NaN    NaN    NaN    NaN    NaN    NaN    NaN    NaN    NaN  \n",
       "8525  246.0  242.0   82.0  172.0  186.0  166.0  155.0  142.0  141.0  134.0  \n",
       "8536  105.0  107.0   99.0   79.0   90.0   92.0  131.0  132.0  255.0  439.0  \n",
       "\n",
       "[5 rows x 45 columns]"
      ]
     },
     "execution_count": 12,
     "metadata": {},
     "output_type": "execute_result"
    }
   ],
   "source": [
    "# ---\n",
    "# Q13\n",
    "\n",
    "communes_populations = communes.join(populations, how=\"inner\")\n",
    "communes_populations.head()"
   ]
  },
  {
   "cell_type": "code",
   "execution_count": 13,
   "metadata": {},
   "outputs": [
    {
     "name": "stderr",
     "output_type": "stream",
     "text": [
      "/home/bertrand/.local/lib/python3.10/site-packages/matplotlib/projections/__init__.py:63: UserWarning: Unable to import Axes3D. This may be due to multiple versions of Matplotlib being installed (e.g. as a system package and as a pip package). As a result, the 3D projection is not available.\n",
      "  warnings.warn(\"Unable to import Axes3D. This may be due to multiple versions of \"\n"
     ]
    },
    {
     "data": {
      "image/png": "[encoded data removed]",
      "text/plain": [
       "<Figure size 720x360 with 1 Axes>"
      ]
     },
     "metadata": {
      "needs_background": "light"
     },
     "output_type": "display_data"
    }
   ],
   "source": [
    "# ---\n",
    "# Q14\n",
    "\n",
    "from matplotlib import pyplot as plt\n",
    "\n",
    "# Par étiquette / valeur d'index\n",
    "commune_choisie = communes_populations.loc[41498]\n",
    "\n",
    "# Par nom (on conserve la première ligne si plusieurs communes ont le même nom)\n",
    "commune_choisie = communes_populations.loc[\n",
    "    communes_populations.nom_1999 == \"Strasbourg\"\n",
    "].iloc[0]\n",
    "\n",
    "\n",
    "# De manière aléatoire\n",
    "# commune_choisie = communes_populations.sample(1)\n",
    "# display(commune_choisie)\n",
    "commune_choisie_populations = commune_choisie.loc[\"1794\":\"1999\"]\n",
    "# display(commune_choisie_populations)\n",
    "\n",
    "# On s'assure que les données de population sont des nombres flottants.\n",
    "commune_choisie_populations = commune_choisie_populations.astype(float)\n",
    "\n",
    "commune_choisie_populations.plot(\n",
    "    title=f\"Évolution de la population de {commune_choisie.nom_1999}\",  # Titre du graphique\n",
    "    xlabel=\"Année de recensement\",  # Nom de l'axe des abscisses\n",
    "    ylabel=\"Population\",  # Nom de l'axe des ordonnées\n",
    "    color=\"teal\",  # Couleur de la ligne : bleu-vert, d'après https://matplotlib.org/stable/gallery/color/named_colors.html\n",
    "    marker=\"o\",  # Marqueur : cercle plein\n",
    "    markersize=3,  # Taille des marqueurs : 3 points\n",
    "    linestyle=\":\",  # Ligne pointillée\n",
    "    figsize=(10, 5),  # Taille de la figure: largeur 10 pouces, hauteur 5 pouces\n",
    ")\n",
    "\n",
    "# Bonus : remplissage de l'aire sous la courbe\n",
    "# Notez qu'on \"dessine\" d'abord la courbe,\n",
    "# puis on remplit l'aire en appelant la méthode fill_between\n",
    "# de Pyplot.\n",
    "# fill_between colorie l'aire entre deux courbes, ou entre une courbe et l'axe des abscisses.\n",
    "# Ici, on utilise une seule courbe, et on remplit l'aire entre entre elle etl'axe des abscisses.\n",
    "# https://matplotlib.org/stable/api/_as_gen/matplotlib.pyplot.fill_between.html\n",
    "plt.fill_between(\n",
    "    commune_choisie_populations.index,  # Les étiquettes de la Series servent d'abscisses\n",
    "    commune_choisie_populations,  # Les valeurs de la Series servent d'ordonnées\n",
    "    color=\"teal\",  # Même couleur que la ligne\n",
    "    alpha=0.2,  # Mais avec une opacité de 20% seulement\n",
    ")\n",
    "\n",
    "plt.show()"
   ]
  },
  {
   "cell_type": "code",
   "execution_count": 14,
   "metadata": {},
   "outputs": [
    {
     "data": {
      "text/plain": [
       "<Axes: title={'center': 'Carte de France des communes par population en 1806'}, xlabel='Longitude', ylabel='Latitude'>"
      ]
     },
     "execution_count": 14,
     "metadata": {},
     "output_type": "execute_result"
    },
    {
     "data": {
      "image/png": "[encoded data removed]",
      "text/plain": [
       "<Figure size 432x288 with 2 Axes>"
      ]
     },
     "metadata": {
      "needs_background": "light"
     },
     "output_type": "display_data"
    }
   ],
   "source": [
    "from matplotlib.colors import LogNorm\n",
    "\n",
    "annee = \"1806\"\n",
    "communes_populations.sort_values(annee, ascending=True, inplace=True)\n",
    "communes_populations.plot.scatter(\n",
    "    x=\"lon\",\n",
    "    y=\"lat\",\n",
    "    c=communes_populations[annee],\n",
    "    s=communes_populations[annee] / 1000,\n",
    "    alpha=0.5,\n",
    "    norm=LogNorm(),\n",
    "    colormap=\"afmhot\",\n",
    "    xlabel=\"Longitude\",\n",
    "    ylabel=\"Latitude\",\n",
    "    title=f\"Carte de France des communes par population en {annee}\",\n",
    ")"
   ]
  }
 ],
 "metadata": {
  "kernelspec": {
   "display_name": "Python 3",
   "language": "python",
   "name": "python3"
  },
  "language_info": {
   "codemirror_mode": {
    "name": "ipython",
    "version": 3
   },
   "file_extension": ".py",
   "mimetype": "text/x-python",
   "name": "python",
   "nbconvert_exporter": "python",
   "pygments_lexer": "ipython3",
   "version": "3.10.12"
  }
 },
 "nbformat": 4,
 "nbformat_minor": 2
}
