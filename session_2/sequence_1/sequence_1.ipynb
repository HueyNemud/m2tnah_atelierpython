{
 "cells": [
  {
   "cell_type": "markdown",
   "metadata": {},
   "source": [
    "# Atelier Python : manipuler et visualiser des tableaux de données avec Pandas.\n",
    "\n",
    "## Premiers pas dans un *notebook*"
   ]
  },
  {
   "cell_type": "markdown",
   "metadata": {},
   "source": [
    "Le code dans la cellule suivante importe le module date du package datetime. Ensuite, il utilise la fonction today() du module date pour obtenir la date actuelle. Enfin, il affiche la date actuelle en utilisant la fonction print()."
   ]
  },
  {
   "cell_type": "code",
   "execution_count": 98,
   "metadata": {},
   "outputs": [
    {
     "name": "stdout",
     "output_type": "stream",
     "text": [
      "Nous sommes le 2024-02-11\n"
     ]
    }
   ],
   "source": [
    "## ---\n",
    "## Q2\n",
    "\n",
    "from datetime import date\n",
    "today = date.today()\n",
    "print(\"Nous sommes le\", today)"
   ]
  },
  {
   "cell_type": "markdown",
   "metadata": {},
   "source": [
    "La cellule suivante demande à l'utilisateur d'entrer son nom en affichant le message \"Quel est votre nom ?\" et stocke l'information dans une variable nommée `name`.\n",
    "Elle affiche ensuite le message \"Bonjour {name}, nous sommes le {today}\", où la variable `name` contient le texte donné par l'utilisateur, et la variable `today` provient de la cellule précédente. "
   ]
  },
  {
   "cell_type": "code",
   "execution_count": 99,
   "metadata": {},
   "outputs": [
    {
     "name": "stdout",
     "output_type": "stream",
     "text": [
      "Bonjour Bertrand, nous sommes le 11/02/2024\n"
     ]
    }
   ],
   "source": [
    "## ---\n",
    "## Q3 & Q4\n",
    "\n",
    "name = input(\"Quel est votre nom ?\")\n",
    "print(f\"Bonjour {name}, nous sommes le {today.strftime('%d/%m/%Y')}\")\n",
    "# Bonus : `today.strftime('%d/%m/%Y')` \n",
    "# permet de formater la date `today` au format jour/mois/année !"
   ]
  },
  {
   "cell_type": "markdown",
   "metadata": {},
   "source": [
    "## Experimentations avec Pandas"
   ]
  },
  {
   "cell_type": "code",
   "execution_count": 100,
   "metadata": {},
   "outputs": [],
   "source": [
    "import pandas as pd"
   ]
  },
  {
   "cell_type": "code",
   "execution_count": 101,
   "metadata": {},
   "outputs": [
    {
     "data": {
      "text/html": [
       "<div>\n",
       "<style scoped>\n",
       "    .dataframe tbody tr th:only-of-type {\n",
       "        vertical-align: middle;\n",
       "    }\n",
       "\n",
       "    .dataframe tbody tr th {\n",
       "        vertical-align: top;\n",
       "    }\n",
       "\n",
       "    .dataframe thead th {\n",
       "        text-align: right;\n",
       "    }\n",
       "</style>\n",
       "<table border=\"1\" class=\"dataframe\">\n",
       "  <thead>\n",
       "    <tr style=\"text-align: right;\">\n",
       "      <th></th>\n",
       "      <th>pop_an3_val</th>\n",
       "      <th>pop_an8_val</th>\n",
       "      <th>pop_1806_val</th>\n",
       "    </tr>\n",
       "    <tr>\n",
       "      <th>nom_cassini</th>\n",
       "      <th></th>\n",
       "      <th></th>\n",
       "      <th></th>\n",
       "    </tr>\n",
       "  </thead>\n",
       "  <tbody>\n",
       "    <tr>\n",
       "      <th>Neuf Village</th>\n",
       "      <td>110.0</td>\n",
       "      <td>100.0</td>\n",
       "      <td>142.0</td>\n",
       "    </tr>\n",
       "    <tr>\n",
       "      <th>Nider Wise</th>\n",
       "      <td>391.0</td>\n",
       "      <td>309.0</td>\n",
       "      <td>410.0</td>\n",
       "    </tr>\n",
       "    <tr>\n",
       "      <th>Haut Barville</th>\n",
       "      <td>46.0</td>\n",
       "      <td>60.0</td>\n",
       "      <td>47.0</td>\n",
       "    </tr>\n",
       "    <tr>\n",
       "      <th>Nusveiller</th>\n",
       "      <td>139.0</td>\n",
       "      <td>94.0</td>\n",
       "      <td>166.0</td>\n",
       "    </tr>\n",
       "    <tr>\n",
       "      <th>Ogy</th>\n",
       "      <td>153.0</td>\n",
       "      <td>142.0</td>\n",
       "      <td>140.0</td>\n",
       "    </tr>\n",
       "    <tr>\n",
       "      <th>Rierange</th>\n",
       "      <td>NaN</td>\n",
       "      <td>NaN</td>\n",
       "      <td>NaN</td>\n",
       "    </tr>\n",
       "    <tr>\n",
       "      <th>Braistroff</th>\n",
       "      <td>75.0</td>\n",
       "      <td>53.0</td>\n",
       "      <td>59.0</td>\n",
       "    </tr>\n",
       "    <tr>\n",
       "      <th>Lamestroff</th>\n",
       "      <td>314.0</td>\n",
       "      <td>303.0</td>\n",
       "      <td>287.0</td>\n",
       "    </tr>\n",
       "  </tbody>\n",
       "</table>\n",
       "</div>"
      ],
      "text/plain": [
       "               pop_an3_val  pop_an8_val  pop_1806_val\n",
       "nom_cassini                                          \n",
       "Neuf Village         110.0        100.0         142.0\n",
       "Nider Wise           391.0        309.0         410.0\n",
       "Haut Barville         46.0         60.0          47.0\n",
       "Nusveiller           139.0         94.0         166.0\n",
       "Ogy                  153.0        142.0         140.0\n",
       "Rierange               NaN          NaN           NaN\n",
       "Braistroff            75.0         53.0          59.0\n",
       "Lamestroff           314.0        303.0         287.0"
      ]
     },
     "execution_count": 101,
     "metadata": {},
     "output_type": "execute_result"
    }
   ],
   "source": [
    "# Q7\n",
    "data = {\n",
    "    'nom_cassini': ['Neuf Village', 'Nider Wise', 'Haut Barville', 'Nusveiller', 'Ogy', 'Rierange', 'Braistroff', 'Lamestroff'],\n",
    "    'pop_an3_val': [110, 391, 46, 139, 153, None, 75, 314],\n",
    "    'pop_an8_val': [100, 309, 60, 94, 142, None, 53, 303],\n",
    "    'pop_1806_val': [142, 410, 47, 166, 140, None, 59, 287]\n",
    "}\n",
    "\n",
    "populations = pd.DataFrame(data)\n",
    "populations.set_index('nom_cassini', inplace=True)\n",
    "populations"
   ]
  },
  {
   "cell_type": "markdown",
   "metadata": {},
   "source": [
    "✏️ Q8. Sélections. "
   ]
  },
  {
   "cell_type": "code",
   "execution_count": 102,
   "metadata": {},
   "outputs": [
    {
     "name": "stdout",
     "output_type": "stream",
     "text": [
      "1. Population en 1806\n"
     ]
    },
    {
     "data": {
      "text/plain": [
       "nom_cassini\n",
       "Neuf Village     142.0\n",
       "Nider Wise       410.0\n",
       "Haut Barville     47.0\n",
       "Nusveiller       166.0\n",
       "Ogy              140.0\n",
       "Rierange           NaN\n",
       "Braistroff        59.0\n",
       "Lamestroff       287.0\n",
       "Name: pop_1806_val, dtype: float64"
      ]
     },
     "metadata": {},
     "output_type": "display_data"
    },
    {
     "name": "stdout",
     "output_type": "stream",
     "text": [
      "2. Population en l'an 3 et en l'an 8\n"
     ]
    },
    {
     "data": {
      "text/html": [
       "<div>\n",
       "<style scoped>\n",
       "    .dataframe tbody tr th:only-of-type {\n",
       "        vertical-align: middle;\n",
       "    }\n",
       "\n",
       "    .dataframe tbody tr th {\n",
       "        vertical-align: top;\n",
       "    }\n",
       "\n",
       "    .dataframe thead th {\n",
       "        text-align: right;\n",
       "    }\n",
       "</style>\n",
       "<table border=\"1\" class=\"dataframe\">\n",
       "  <thead>\n",
       "    <tr style=\"text-align: right;\">\n",
       "      <th></th>\n",
       "      <th>pop_an3_val</th>\n",
       "      <th>pop_an8_val</th>\n",
       "    </tr>\n",
       "    <tr>\n",
       "      <th>nom_cassini</th>\n",
       "      <th></th>\n",
       "      <th></th>\n",
       "    </tr>\n",
       "  </thead>\n",
       "  <tbody>\n",
       "    <tr>\n",
       "      <th>Neuf Village</th>\n",
       "      <td>110.0</td>\n",
       "      <td>100.0</td>\n",
       "    </tr>\n",
       "    <tr>\n",
       "      <th>Nider Wise</th>\n",
       "      <td>391.0</td>\n",
       "      <td>309.0</td>\n",
       "    </tr>\n",
       "    <tr>\n",
       "      <th>Haut Barville</th>\n",
       "      <td>46.0</td>\n",
       "      <td>60.0</td>\n",
       "    </tr>\n",
       "    <tr>\n",
       "      <th>Nusveiller</th>\n",
       "      <td>139.0</td>\n",
       "      <td>94.0</td>\n",
       "    </tr>\n",
       "    <tr>\n",
       "      <th>Ogy</th>\n",
       "      <td>153.0</td>\n",
       "      <td>142.0</td>\n",
       "    </tr>\n",
       "    <tr>\n",
       "      <th>Rierange</th>\n",
       "      <td>NaN</td>\n",
       "      <td>NaN</td>\n",
       "    </tr>\n",
       "    <tr>\n",
       "      <th>Braistroff</th>\n",
       "      <td>75.0</td>\n",
       "      <td>53.0</td>\n",
       "    </tr>\n",
       "    <tr>\n",
       "      <th>Lamestroff</th>\n",
       "      <td>314.0</td>\n",
       "      <td>303.0</td>\n",
       "    </tr>\n",
       "  </tbody>\n",
       "</table>\n",
       "</div>"
      ],
      "text/plain": [
       "               pop_an3_val  pop_an8_val\n",
       "nom_cassini                            \n",
       "Neuf Village         110.0        100.0\n",
       "Nider Wise           391.0        309.0\n",
       "Haut Barville         46.0         60.0\n",
       "Nusveiller           139.0         94.0\n",
       "Ogy                  153.0        142.0\n",
       "Rierange               NaN          NaN\n",
       "Braistroff            75.0         53.0\n",
       "Lamestroff           314.0        303.0"
      ]
     },
     "metadata": {},
     "output_type": "display_data"
    },
    {
     "name": "stdout",
     "output_type": "stream",
     "text": [
      "3. Population de Neuf Village\n"
     ]
    },
    {
     "data": {
      "text/plain": [
       "pop_an3_val     110.0\n",
       "pop_an8_val     100.0\n",
       "pop_1806_val    142.0\n",
       "Name: Neuf Village, dtype: float64"
      ]
     },
     "metadata": {},
     "output_type": "display_data"
    },
    {
     "name": "stdout",
     "output_type": "stream",
     "text": [
      "4. Population des villages de Neuf Village à Ogy\n"
     ]
    },
    {
     "data": {
      "text/html": [
       "<div>\n",
       "<style scoped>\n",
       "    .dataframe tbody tr th:only-of-type {\n",
       "        vertical-align: middle;\n",
       "    }\n",
       "\n",
       "    .dataframe tbody tr th {\n",
       "        vertical-align: top;\n",
       "    }\n",
       "\n",
       "    .dataframe thead th {\n",
       "        text-align: right;\n",
       "    }\n",
       "</style>\n",
       "<table border=\"1\" class=\"dataframe\">\n",
       "  <thead>\n",
       "    <tr style=\"text-align: right;\">\n",
       "      <th></th>\n",
       "      <th>pop_an3_val</th>\n",
       "      <th>pop_an8_val</th>\n",
       "      <th>pop_1806_val</th>\n",
       "    </tr>\n",
       "    <tr>\n",
       "      <th>nom_cassini</th>\n",
       "      <th></th>\n",
       "      <th></th>\n",
       "      <th></th>\n",
       "    </tr>\n",
       "  </thead>\n",
       "  <tbody>\n",
       "    <tr>\n",
       "      <th>Neuf Village</th>\n",
       "      <td>110.0</td>\n",
       "      <td>100.0</td>\n",
       "      <td>142.0</td>\n",
       "    </tr>\n",
       "    <tr>\n",
       "      <th>Nider Wise</th>\n",
       "      <td>391.0</td>\n",
       "      <td>309.0</td>\n",
       "      <td>410.0</td>\n",
       "    </tr>\n",
       "    <tr>\n",
       "      <th>Haut Barville</th>\n",
       "      <td>46.0</td>\n",
       "      <td>60.0</td>\n",
       "      <td>47.0</td>\n",
       "    </tr>\n",
       "    <tr>\n",
       "      <th>Nusveiller</th>\n",
       "      <td>139.0</td>\n",
       "      <td>94.0</td>\n",
       "      <td>166.0</td>\n",
       "    </tr>\n",
       "    <tr>\n",
       "      <th>Ogy</th>\n",
       "      <td>153.0</td>\n",
       "      <td>142.0</td>\n",
       "      <td>140.0</td>\n",
       "    </tr>\n",
       "  </tbody>\n",
       "</table>\n",
       "</div>"
      ],
      "text/plain": [
       "               pop_an3_val  pop_an8_val  pop_1806_val\n",
       "nom_cassini                                          \n",
       "Neuf Village         110.0        100.0         142.0\n",
       "Nider Wise           391.0        309.0         410.0\n",
       "Haut Barville         46.0         60.0          47.0\n",
       "Nusveiller           139.0         94.0         166.0\n",
       "Ogy                  153.0        142.0         140.0"
      ]
     },
     "metadata": {},
     "output_type": "display_data"
    }
   ],
   "source": [
    "# ---\n",
    "# Q8\n",
    "\n",
    "# Astuce bonus : au lieu de print, on peut utiliser display pour afficher le DataFrame\n",
    "# Cela permet d'afficher une DataFrame avec la mise en forme de Jupyter\n",
    "# Attention, ça ne fonctionne que dans un notebook Jupyter !\n",
    "\n",
    "# Sélection de la colonne pop_1806_val\n",
    "print(\"1. Population en 1806\")\n",
    "display(populations['pop_1806_val'])\n",
    "\n",
    "# Sélection des colonnes pop_an3_val et pop_an8_val\n",
    "print(\"2. Population en l'an 3 et en l'an 8\")\n",
    "display(populations[['pop_an3_val', 'pop_an8_val']])\n",
    "\n",
    "# Sélection de la ligne portant l'étiquette 'Neuf Village'\n",
    "print(\"3. Population de Neuf Village\")\n",
    "display(populations.loc['Neuf Village'])\n",
    "\n",
    "# Sélection des lignes 'Neuf Village' à 'Ogy'\n",
    "print(\"4. Population des villages de Neuf Village à Ogy\")\n",
    "display(populations.loc['Neuf Village':'Ogy'])\n"
   ]
  },
  {
   "cell_type": "markdown",
   "metadata": {},
   "source": [
    "✏️ Q9. Sélection conditionnelle : masques booléens"
   ]
  },
  {
   "cell_type": "code",
   "execution_count": 103,
   "metadata": {},
   "outputs": [
    {
     "name": "stdout",
     "output_type": "stream",
     "text": [
      "Masque booléen : vrai si la population en l'an 3 est supérieure à 100, faux sinon\n"
     ]
    },
    {
     "data": {
      "text/plain": [
       "nom_cassini\n",
       "Neuf Village      True\n",
       "Nider Wise        True\n",
       "Haut Barville    False\n",
       "Nusveiller        True\n",
       "Ogy               True\n",
       "Rierange         False\n",
       "Braistroff       False\n",
       "Lamestroff        True\n",
       "Name: pop_an3_val, dtype: bool"
      ]
     },
     "metadata": {},
     "output_type": "display_data"
    },
    {
     "name": "stdout",
     "output_type": "stream",
     "text": [
      "Filtrage de la table par le masque précédent : seules les lignes pour lesquelles le masque est vrai sont conservées\n"
     ]
    },
    {
     "data": {
      "text/html": [
       "<div>\n",
       "<style scoped>\n",
       "    .dataframe tbody tr th:only-of-type {\n",
       "        vertical-align: middle;\n",
       "    }\n",
       "\n",
       "    .dataframe tbody tr th {\n",
       "        vertical-align: top;\n",
       "    }\n",
       "\n",
       "    .dataframe thead th {\n",
       "        text-align: right;\n",
       "    }\n",
       "</style>\n",
       "<table border=\"1\" class=\"dataframe\">\n",
       "  <thead>\n",
       "    <tr style=\"text-align: right;\">\n",
       "      <th></th>\n",
       "      <th>pop_an3_val</th>\n",
       "      <th>pop_an8_val</th>\n",
       "      <th>pop_1806_val</th>\n",
       "    </tr>\n",
       "    <tr>\n",
       "      <th>nom_cassini</th>\n",
       "      <th></th>\n",
       "      <th></th>\n",
       "      <th></th>\n",
       "    </tr>\n",
       "  </thead>\n",
       "  <tbody>\n",
       "    <tr>\n",
       "      <th>Neuf Village</th>\n",
       "      <td>110.0</td>\n",
       "      <td>100.0</td>\n",
       "      <td>142.0</td>\n",
       "    </tr>\n",
       "    <tr>\n",
       "      <th>Nider Wise</th>\n",
       "      <td>391.0</td>\n",
       "      <td>309.0</td>\n",
       "      <td>410.0</td>\n",
       "    </tr>\n",
       "    <tr>\n",
       "      <th>Nusveiller</th>\n",
       "      <td>139.0</td>\n",
       "      <td>94.0</td>\n",
       "      <td>166.0</td>\n",
       "    </tr>\n",
       "    <tr>\n",
       "      <th>Ogy</th>\n",
       "      <td>153.0</td>\n",
       "      <td>142.0</td>\n",
       "      <td>140.0</td>\n",
       "    </tr>\n",
       "    <tr>\n",
       "      <th>Lamestroff</th>\n",
       "      <td>314.0</td>\n",
       "      <td>303.0</td>\n",
       "      <td>287.0</td>\n",
       "    </tr>\n",
       "  </tbody>\n",
       "</table>\n",
       "</div>"
      ],
      "text/plain": [
       "              pop_an3_val  pop_an8_val  pop_1806_val\n",
       "nom_cassini                                         \n",
       "Neuf Village        110.0        100.0         142.0\n",
       "Nider Wise          391.0        309.0         410.0\n",
       "Nusveiller          139.0         94.0         166.0\n",
       "Ogy                 153.0        142.0         140.0\n",
       "Lamestroff          314.0        303.0         287.0"
      ]
     },
     "execution_count": 103,
     "metadata": {},
     "output_type": "execute_result"
    }
   ],
   "source": [
    "# ---\n",
    "# Q9\n",
    "\n",
    "print(\"Masque booléen : vrai si la population en l'an 3 est supérieure à 100, faux sinon\")\n",
    "display(populations['pop_an3_val'] > 100)\n",
    "\n",
    "print(\"Filtrage de la table par le masque précédent : seules les lignes pour lesquelles le masque est vrai sont conservées\")\n",
    "populations[populations['pop_an3_val'] > 100]"
   ]
  },
  {
   "cell_type": "code",
   "execution_count": 104,
   "metadata": {},
   "outputs": [
    {
     "name": "stdout",
     "output_type": "stream",
     "text": [
      "Villages dont la population en 1806 est inférieure à celle de l'an 3\n"
     ]
    },
    {
     "data": {
      "text/html": [
       "<div>\n",
       "<style scoped>\n",
       "    .dataframe tbody tr th:only-of-type {\n",
       "        vertical-align: middle;\n",
       "    }\n",
       "\n",
       "    .dataframe tbody tr th {\n",
       "        vertical-align: top;\n",
       "    }\n",
       "\n",
       "    .dataframe thead th {\n",
       "        text-align: right;\n",
       "    }\n",
       "</style>\n",
       "<table border=\"1\" class=\"dataframe\">\n",
       "  <thead>\n",
       "    <tr style=\"text-align: right;\">\n",
       "      <th></th>\n",
       "      <th>pop_an3_val</th>\n",
       "      <th>pop_an8_val</th>\n",
       "      <th>pop_1806_val</th>\n",
       "    </tr>\n",
       "    <tr>\n",
       "      <th>nom_cassini</th>\n",
       "      <th></th>\n",
       "      <th></th>\n",
       "      <th></th>\n",
       "    </tr>\n",
       "  </thead>\n",
       "  <tbody>\n",
       "    <tr>\n",
       "      <th>Ogy</th>\n",
       "      <td>153.0</td>\n",
       "      <td>142.0</td>\n",
       "      <td>140.0</td>\n",
       "    </tr>\n",
       "    <tr>\n",
       "      <th>Braistroff</th>\n",
       "      <td>75.0</td>\n",
       "      <td>53.0</td>\n",
       "      <td>59.0</td>\n",
       "    </tr>\n",
       "    <tr>\n",
       "      <th>Lamestroff</th>\n",
       "      <td>314.0</td>\n",
       "      <td>303.0</td>\n",
       "      <td>287.0</td>\n",
       "    </tr>\n",
       "  </tbody>\n",
       "</table>\n",
       "</div>"
      ],
      "text/plain": [
       "             pop_an3_val  pop_an8_val  pop_1806_val\n",
       "nom_cassini                                        \n",
       "Ogy                153.0        142.0         140.0\n",
       "Braistroff          75.0         53.0          59.0\n",
       "Lamestroff         314.0        303.0         287.0"
      ]
     },
     "metadata": {},
     "output_type": "display_data"
    }
   ],
   "source": [
    "# ---\n",
    "# Q9 - suite\n",
    "\n",
    "# Sélection des lignes dont la population en 1806 est inférieure à celle de l'an 3\n",
    "print(\"Villages dont la population en 1806 est inférieure à celle de l'an 3\")\n",
    "display(populations[populations['pop_1806_val'] < populations['pop_an3_val']])"
   ]
  },
  {
   "cell_type": "markdown",
   "metadata": {},
   "source": [
    "✏️ Q10. Sélection conditionnelle multiple."
   ]
  },
  {
   "cell_type": "code",
   "execution_count": 105,
   "metadata": {},
   "outputs": [
    {
     "name": "stdout",
     "output_type": "stream",
     "text": [
      "Villages dont la population en 1806 est supérieure à 100 mais inférieure à celle de l'an III.\n"
     ]
    },
    {
     "data": {
      "text/html": [
       "<div>\n",
       "<style scoped>\n",
       "    .dataframe tbody tr th:only-of-type {\n",
       "        vertical-align: middle;\n",
       "    }\n",
       "\n",
       "    .dataframe tbody tr th {\n",
       "        vertical-align: top;\n",
       "    }\n",
       "\n",
       "    .dataframe thead th {\n",
       "        text-align: right;\n",
       "    }\n",
       "</style>\n",
       "<table border=\"1\" class=\"dataframe\">\n",
       "  <thead>\n",
       "    <tr style=\"text-align: right;\">\n",
       "      <th></th>\n",
       "      <th>pop_an3_val</th>\n",
       "      <th>pop_an8_val</th>\n",
       "      <th>pop_1806_val</th>\n",
       "    </tr>\n",
       "    <tr>\n",
       "      <th>nom_cassini</th>\n",
       "      <th></th>\n",
       "      <th></th>\n",
       "      <th></th>\n",
       "    </tr>\n",
       "  </thead>\n",
       "  <tbody>\n",
       "    <tr>\n",
       "      <th>Ogy</th>\n",
       "      <td>153.0</td>\n",
       "      <td>142.0</td>\n",
       "      <td>140.0</td>\n",
       "    </tr>\n",
       "    <tr>\n",
       "      <th>Lamestroff</th>\n",
       "      <td>314.0</td>\n",
       "      <td>303.0</td>\n",
       "      <td>287.0</td>\n",
       "    </tr>\n",
       "  </tbody>\n",
       "</table>\n",
       "</div>"
      ],
      "text/plain": [
       "             pop_an3_val  pop_an8_val  pop_1806_val\n",
       "nom_cassini                                        \n",
       "Ogy                153.0        142.0         140.0\n",
       "Lamestroff         314.0        303.0         287.0"
      ]
     },
     "execution_count": 105,
     "metadata": {},
     "output_type": "execute_result"
    }
   ],
   "source": [
    "# ---\n",
    "# Q10\n",
    "\n",
    "# Sélection des villages dont la population en 1806 est supérieure à 100 mais inférieure à celle de l'an III.\n",
    "print(\n",
    "    \"Villages dont la population en 1806 est supérieure à 100 mais inférieure à celle de l'an III.\"\n",
    ")\n",
    "populations[\n",
    "    (populations[\"pop_1806_val\"] < populations[\"pop_an3_val\"])\n",
    "    & (populations[\"pop_1806_val\"] > 100)\n",
    "]"
   ]
  },
  {
   "cell_type": "code",
   "execution_count": 106,
   "metadata": {},
   "outputs": [
    {
     "name": "stdout",
     "output_type": "stream",
     "text": [
      "Structure de la table avant nettoyage (8, 3)\n",
      "Structure de la table après nettoyage (7, 3)\n"
     ]
    }
   ],
   "source": [
    "# ---\n",
    "# Q11\n",
    "\n",
    "print(\"Structure de la table avant nettoyage\", populations.shape)\n",
    "populations.dropna(inplace=True)\n",
    "print(\"Structure de la table après nettoyage\", populations.shape)"
   ]
  },
  {
   "cell_type": "markdown",
   "metadata": {},
   "source": [
    "## Évolution démographique des communes de France."
   ]
  },
  {
   "cell_type": "code",
   "execution_count": 107,
   "metadata": {},
   "outputs": [
    {
     "name": "stderr",
     "output_type": "stream",
     "text": [
      "/tmp/ipykernel_88312/561872253.py:1: DtypeWarning: Columns (17,31,33) have mixed types. Specify dtype option on import or set low_memory=False.\n",
      "  communes = pd.read_csv('../data/anciennes_communes.csv', index_col='gid')\n",
      "/tmp/ipykernel_88312/561872253.py:2: DtypeWarning: Columns (17,31,33) have mixed types. Specify dtype option on import or set low_memory=False.\n",
      "  populations = pd.read_csv('../data/anciennes_communes.csv', index_col='gid')\n"
     ]
    }
   ],
   "source": [
    "# ---\n",
    "# Q12\n",
    "\n",
    "communes = pd.read_csv('../data/anciennes_communes.csv', index_col='gid')\n",
    "populations = pd.read_csv('../data/anciennes_communes.csv', index_col='gid')"
   ]
  },
  {
   "cell_type": "code",
   "execution_count": 108,
   "metadata": {},
   "outputs": [
    {
     "ename": "NameError",
     "evalue": "name 'on' is not defined",
     "output_type": "error",
     "traceback": [
      "\u001b[0;31m---------------------------------------------------------------------------\u001b[0m",
      "\u001b[0;31mNameError\u001b[0m                                 Traceback (most recent call last)",
      "\u001b[0;32m/tmp/ipykernel_88312/556358691.py\u001b[0m in \u001b[0;36m<module>\u001b[0;34m\u001b[0m\n\u001b[0;32m----> 1\u001b[0;31m \u001b[0mcommunes\u001b[0m\u001b[0;34m.\u001b[0m\u001b[0mjoin\u001b[0m\u001b[0;34m(\u001b[0m\u001b[0mpopulations\u001b[0m\u001b[0;34m,\u001b[0m \u001b[0mon\u001b[0m\u001b[0;34m)\u001b[0m\u001b[0;34m\u001b[0m\u001b[0;34m\u001b[0m\u001b[0m\n\u001b[0m",
      "\u001b[0;31mNameError\u001b[0m: name 'on' is not defined"
     ]
    }
   ],
   "source": [
    "communes.join(populations, on)"
   ]
  }
 ],
 "metadata": {
  "kernelspec": {
   "display_name": "Python 3",
   "language": "python",
   "name": "python3"
  },
  "language_info": {
   "codemirror_mode": {
    "name": "ipython",
    "version": 3
   },
   "file_extension": ".py",
   "mimetype": "text/x-python",
   "name": "python",
   "nbconvert_exporter": "python",
   "pygments_lexer": "ipython3",
   "version": "3.10.12"
  }
 },
 "nbformat": 4,
 "nbformat_minor": 2
}
