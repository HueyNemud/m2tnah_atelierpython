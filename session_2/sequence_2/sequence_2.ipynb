{
 "cells": [
  {
   "cell_type": "markdown",
   "metadata": {},
   "source": [
    "# Une interface interactive de visualisation de données avec les bibliothèques **Plotly**\n",
    "\n",
    "> 🛈 Ce notebook Jupyter consitue le guide de la séquence, suivez les instructions et complétez les cellules pour répondre aux questions.\n",
    "\n",
    "> 🛈 Les cellules à compléter dans les cellules sont indiquées par 🏗️. Le code \"à trou\" est indiqué par des points de suspension.\n",
    "\n",
    "\n",
    "#### Introduction\n",
    "\n",
    "[Plotly](https://plotly.com/) est une entreprise canadienne qui développe et publie une suite d'outils et de bibliothèques logicielles multi-langages pour construire des applications Web d'analyse de données.\n",
    "À la différence de Matplotlib, Plolty permet de construire des graphiques **interactifs** et des applications Web complètes pour présenter visuellement des données. On appelle ces applications des *Dashboards*, des tableaux de bords dynamiques et interactifs.\n",
    "\n",
    "Plotly publie en *open-source* deux bibliothèques Python essentielles :\n",
    "- **[Plotly Express](https://plotly.com/python/plotly-express/)** : donne accès à toutes sortes de graphiques interactifs (nommées *Figures*) *pouvant être construits à partir notamment de tableaux de données Pandas;\n",
    "- **[Dash](https://dash.plotly.com/)** : Dash fournit des composants logiciels pour construire très facilement une application Web de visualisation de données.\n",
    "\n",
    "La séquence du jour est organisée en trois parties, dont une bonus pour aller plus loin. \n",
    "1. D'abord, nous allons expérimenter Plolty Express pour construire un graphique interactif similaire à celui construire dans la séquence 1 pour l'évolution démographique d'une commune.\n",
    "2. Ensuite nous verrons comment construire une interface Web intégrant ce graphique\n",
    "3. Enfin, nous l'enrichirons d'une visualisation cartographique de l'évolution démographique des communes françaises. **[bonus]**\n",
    "\n",
    "\n",
    "#### Installation des dépendances\n",
    "En plus de Pandas, nous avons besoin d'installer deux nouvelles bibliothèques : `plotly` et `dash`.\n",
    "C'est l'occasion d'introduire un aspect bien pratique de Jupyter :\n",
    "les **🪄** ✨[commandes magiques](https://ipython.readthedocs.io/en/stable/interactive/magics.html)✨\n",
    "\n",
    "Ces commandes déclenchent des fonctionnalités spéciales, comprises uniquement par le noyau Jupyter. Elles commencent toujours par `%` ou `%%`.\n",
    "\n",
    "Il en existe aujourd'hui plus d'une centaine, mais une seule nous interesse aujourd'hui : `%pip`, qui - on s'en doute - permet d'exécuter l'installateur de paquets `pip`.\n",
    "\n",
    " ✏️ **Q1.**"
   ]
  },
  {
   "cell_type": "code",
   "execution_count": null,
   "metadata": {},
   "outputs": [],
   "source": [
    "# 🏗️\n",
    "# Complétez les commandes suivantes pour installer les bibliothèques `plotly`, `dash` et `pandas`.\n",
    "# 🛈 passer L'option --quiet à pip évite les messages d'installation tout en conservant les messages d'erreurs.\n",
    "%pip install ..."
   ]
  },
  {
   "cell_type": "markdown",
   "metadata": {},
   "source": [
    "Les paquets nécessaires sont installés, on peut commencer ! **🏁**"
   ]
  },
  {
   "cell_type": "markdown",
   "metadata": {},
   "source": [
    "## 0. Chargement des données des communes de France\n",
    "\n",
    "Comme pour la séquence 1, les données des communes sont stockées dans deux fichiers CSV : \n",
    "- `../data/communes_de_france.csv` : toutes les informations des communes;\n",
    "- `../data/demographie_des_communes.csv` : données de population des communes, de l'an III à 1999.\n",
    "\n",
    "#### Import de Pandas\n",
    "\n",
    "✏️ **Q2.**\n",
    "\n",
    "D'abord, importez la bibliothèque `pandas` sous l'alias `pd`."
   ]
  },
  {
   "cell_type": "code",
   "execution_count": null,
   "metadata": {},
   "outputs": [],
   "source": [
    "# 🏗️\n",
    "import ... as ..."
   ]
  },
  {
   "cell_type": "markdown",
   "metadata": {},
   "source": [
    "#### Chargement des CSV\n",
    "\n",
    "✏️ **Q3.**\n",
    "\n",
    "Chargez maintenant `communes_de_france.csv` dans une DataFrame Pandas nommée `communes_de_france`, et `demographie_des_communes.csv` dans une DataFrame nommée `demographie_des_communes`.\n",
    "\n",
    "Dans les deux cas, utilisez le paramètre `index_col` pour que la colonne `gid` du CSV soit utilisée comme index de la DataFrame. "
   ]
  },
  {
   "cell_type": "code",
   "execution_count": null,
   "metadata": {},
   "outputs": [],
   "source": [
    "# 🏗️\n",
    "communes_de_france = ...\n",
    "demographie_des_communes = ...\n",
    "\n",
    "display(communes_de_france.head(2))\n",
    "display(demographie_des_communes.head(2))"
   ]
  },
  {
   "cell_type": "markdown",
   "metadata": {},
   "source": [
    "#### Jointure des tables\n",
    "\n",
    "✏️ **Q4.**\n",
    "\n",
    "Comme dans la séquence 1, joignez ces deux DataFrame avec la méthode `DataFrame.join()` pour former une nouvelle DataFrame nommée `communes` contenant la totalité des données."
   ]
  },
  {
   "cell_type": "code",
   "execution_count": null,
   "metadata": {},
   "outputs": [],
   "source": [
    "# 🏗️\n",
    "communes = ...\n",
    "communes.head(2)"
   ]
  },
  {
   "cell_type": "markdown",
   "metadata": {},
   "source": [
    "Assurez-vous que la table produite contient bien 43792 lignes et 45 colonnes."
   ]
  },
  {
   "cell_type": "code",
   "execution_count": null,
   "metadata": {},
   "outputs": [],
   "source": [
    "print(communes.shape)\n",
    "assert communes.shape == (43792, 45) # Assert sert à vérifier qu'une condition est vraie. Si ce n'est pas le cas, une erreur est levée."
   ]
  },
  {
   "cell_type": "markdown",
   "metadata": {},
   "source": [
    "##### Réindexation\n",
    "\n",
    "✏️ **Q5.**\n",
    "\n",
    "Pour simplifier la suite de la séquence, nous allons modifier l'index de la table `communes` pour que `nom_1999` d'index.\n",
    "Cela permettra d'utiliser ensuite la méthode `DataFrame.loc()` avec un nom de commune, par exemple `communes.loc[\"Strasbourg\"]`.\n",
    "\n",
    "Utilisez pour cela la méthode `DataFrame.set_index(<colonne à indexer>)` avec le paramètre `inplace=True` pour  modifier directement la table. Sans ce paramètres, `set_index()` renverra une nouvelle DataFrame qu'il vous faudra affecter à la variable `communes = communes.set_index(...)`.\n",
    "\n",
    "Dernière chose, utiliser la colonne `nom_1999` comme index va la supprimer de la liste des colonnes. Pour l'avoir comme index **et** comme colonne il faut annuler ce comportement avec le paramètre `drop=False`."
   ]
  },
  {
   "cell_type": "code",
   "execution_count": null,
   "metadata": {},
   "outputs": [],
   "source": [
    "# 🏗️\n",
    "communes.set_index(...)\n",
    "communes.head(2) # Vérifiez que l'index est maintenant le nom des communes en 1999."
   ]
  },
  {
   "cell_type": "markdown",
   "metadata": {},
   "source": [
    "## 1. Tracer l'évolution de la population d'une commune\n",
    "\n",
    "L'objectif de cette section est d'apprendre à utiliser `plotly` pour créer un graphique de l'évolution démographique d'une commune choisie, de 1794 à 1999. Certes, on l'a déjà fait dans la première séquence avec Matplotlib...mais cette fois le graphique sera interactif !\n",
    "\n",
    "##### Import de plotly.express\n",
    "\n",
    "Plotly est un meta-package, c'est à dire qu'il contient plusieurs sous-bibliothèques; nous n'aurons besoin que de `plotly.express` pour créer des graphiques.\n",
    "Importons-la sous l'alias `px`."
   ]
  },
  {
   "cell_type": "code",
   "execution_count": null,
   "metadata": {},
   "outputs": [],
   "source": [
    "import plotly.express as px"
   ]
  },
  {
   "cell_type": "markdown",
   "metadata": {},
   "source": [
    "##### Sélection d'une commune\n",
    "\n",
    "✏️ **Q6.**\n",
    "\n",
    "Selectionnez dans la table `communes` une commune au choix. Comme `nom_1999` est maintenant l'index de cette table, vous pouvez directement utiliser la méthode `loc[\"nom de commune\"]` pour récupérer la *Series* qui correspond à la ligne de cette commune dans la table."
   ]
  },
  {
   "cell_type": "code",
   "execution_count": null,
   "metadata": {},
   "outputs": [],
   "source": [
    "# 🏗️\n",
    "# 🛈 Inspirez-vous le code de la séquence 1.\n",
    "commune_choisie = ...\n",
    "\n",
    "# 🛈 En panne d'inspiration ? Selectionnez une commune au hasard avec la méthode `sample()` qui renvoie un échantillon aléatoire de la table :\n",
    "# `communes.sample().iloc[0]`. \n",
    "# sample() renvoie une DataFrame de 1 ligne, il faut donc ajouter `.iloc[0]` pour en obtenir la première ligne sous forme de Serie.\n",
    "# Attention, à chaque exécution de la cellule, une nouvelle commune sera choisie aléatoirement. Un peu de hasard ne fait pas de mal :)\n",
    "\n",
    "# Assurez-vous que la commune choisie contient bien toutes les informations qui vous interesse et en premier lieu sa population aux différentes recensements !\n",
    "commune_choisie"
   ]
  },
  {
   "cell_type": "markdown",
   "metadata": {},
   "source": [
    "##### Tracer une courbe avec Plotly\n",
    "\n",
    "Plotly propose de nombreuses sortes de graphiques, dont on retrouve la liste sur le site https://plotly.com/python.\n",
    "\n",
    "La représentation graphique la plus simple et efficace des variations d'une valeur (ici la population) reste encore la courbe.\n",
    "\n",
    "Plotly permet de créer une *Figure* tracant une simple courbe avec la méthode [`px.line(...)`](https://plotly.com/python/line-charts).\n",
    "Le premier exemple donné par documentation de Plotly (https://plotly.com/python/line-charts`) trace l'évolution de l'espérance de vie de différents pays.\n",
    "\n",
    "Regardons seulement les paramètres passés à la méthode `line()`:\n",
    "```python\n",
    "# Une DataFrame Pandas d'exemple, contenant les statistiques de l'évolution de l'espérance de vie des pays du monde\n",
    "# Elle contient notamment quatre colonnes : \"year\", \"lifeExp\" (life expectancy), \"country\" et \"continent\"\n",
    "# query() est une méthode de Pandas qui permet d'appliquer facilement des filtres, ici pour conserver les pays d'Océanie\n",
    "df = px.data.gapminder().query(\"continent=='Oceania'\")\n",
    "fig = px.line(df,  # On passe la table de données\n",
    "              x=\"year\", # On précise quelle colonne utiliser pour l'axe des abscisses\n",
    "              y=\"lifeExp\", # Idem pour l'axe des ordonnées\n",
    "              color='country') # La colonne \"country\" sera utilisée pour catégoriser les couleurs des courbes\n",
    "fig.show() # Affiche la figure.\n",
    "```\n",
    "\n",
    "✏️ **Q7.**\n",
    "\n",
    "Testez cet exemple dans la cellule suivante pour voir ce qu'il produit.\n",
    "\n",
    "> 🛈 Avez-vous remarqué le menu de contrôle du graphique qui apparaît en haut à droite lorsque vous passez votre souris sur le graphique ?\n",
    "> Et comment le graphique réagit lorsque vous passer le curseur sur les courbes ?"
   ]
  },
  {
   "cell_type": "code",
   "execution_count": null,
   "metadata": {},
   "outputs": [],
   "source": [
    "# 🏗️\n",
    "# Copiez et exécutez ici l'exemple de Plotly\n",
    "..."
   ]
  },
  {
   "cell_type": "markdown",
   "metadata": {},
   "source": [
    "##### Tracer l'évolution démographique de la commune choisie\n",
    "\n",
    "Vous avez peut-être remarqué que l'exemple de Plotly utilise une *DataFrame*, un tableau à 2 dimensions, tandis que la variable `commune_choisie` contient une unique ligne sous la forme d'une *Series* (une liste à 1 dimension).\n",
    "\n",
    "Et bien...c'est encore plus simple ! Les méthodes comme `px.line(...)` fonctionnent également avec des *Series*; il n'y a dans ce cas même pas besoin de préciser les axes puisqu'on souhaite simplement tracer la variable contenue dans la *Series*, dans notre cas les valeurs de populations aux différents recensements.\n",
    "\n",
    "**Mais** il faut alors que cette *Series* contienne **uniquement** les informations démographiques.\n",
    "\n",
    "✏️ **Q8.**\n",
    "\n",
    "La première chose est donc d'extraire la *Series* des valeurs de population dans une variable nommée `commune_choisie_populations`.\n",
    "Utilisez pour cela la syntaxe des *slices*/tranches vue dans la séquence précédente pour sélectionner toutes les colonnes depuis \"1794\" jusqu'à \"1999\"."
   ]
  },
  {
   "cell_type": "code",
   "execution_count": null,
   "metadata": {},
   "outputs": [],
   "source": [
    "# 🏗️\n",
    "commune_choisie_populations = commune_choisie[...] # Utilisez l'opérateur \":\" pour trancher dans la Series `commune_choisie` et ne garder que les colonnes de population.\n",
    "commune_choisie_populations.head(2) # Affiche les 2 premières lignes pour vérifier que la sélection est correcte."
   ]
  },
  {
   "cell_type": "markdown",
   "metadata": {},
   "source": [
    "✏️ **Q9.**\n",
    "\n",
    "Avec `px.line()` tracez maintenant la courbe de population de la commune."
   ]
  },
  {
   "cell_type": "code",
   "execution_count": null,
   "metadata": {},
   "outputs": [],
   "source": [
    "# 🏗️\n",
    "fig = px.line(...)\n",
    "fig # Equivalent à display(fig) car il s'agit de la dernière instruction de la cellule. Comme fig est une Figure Plotly, cela est équivalent à fig.show() !"
   ]
  },
  {
   "cell_type": "markdown",
   "metadata": {},
   "source": [
    "##### Personnaliser la figure\n",
    "\n",
    "Il est possible d'adapter et personnaliser un graphique en profondeur, à trois niveaux :\n",
    "1. Celui de la **courbe** elle-même, à l'aide de paramètres passés à `px.line()`. La liste complète est données dans sa documentation : https://plotly.com/python-api-reference/generated/plotly.express.line. À part quelques paramètres (comme le titre), la plupart de ces paramètres attendent des noms de colonne, pour que le graphique soit configuré directement par les données. Par exemple, donner une colonne au paramètre `color` permet à Plotly de selectionner une couleur pour chaque valeur différente dans cette colonne.\n",
    "2. Au niveau du **tracé**, à l'aide de la méthode [`fig.update_traces()`](https://plotly.com/python-api-reference/generated/plotly.graph_objects.Figure.html#plotly.graph_objects.Figure.update_traces)\n",
    "3. Au niveau de al **mise en page** à l'aide de la méthode [`fig.update_layout()`](https://plotly.com/python-api-reference/generated/plotly.graph_objects.Figure.html#plotly.graph_objects.Figure.update_layout).\n",
    "\n",
    "Dans notre cas, comme on affiche une seule courbe, il n'est pas très interessant de paramétrer la stylisation directement par les données; procédons plutôt à la main.\n",
    "\n",
    "Pour savoir quels paramètres acceptent les méthodes `update_traces()` et `update_layout`, il faut comprendre qu'un objet *Figure* est avant tout un \"simple\" **dictionnaire** ! C'est en fait la méthode `show()` qui fait tout le travail d'affichage.\n",
    "\n",
    "Voici ce qu'on obient en affichant avec `print()` la figure créée précédemment :"
   ]
  },
  {
   "cell_type": "code",
   "execution_count": null,
   "metadata": {},
   "outputs": [],
   "source": [
    "# Exécutez la cellule suivante pour afficher une description textuelle de la figure.\n",
    "print(fig)"
   ]
  },
  {
   "cell_type": "markdown",
   "metadata": {},
   "source": [
    "L'important à retenir, c'est que :\n",
    "1. `fig.update_traces()` permet de modifier tous les pramètres qui se trouvent dans les éléments du sous-dictionnaire **data**\n",
    "2. `fig.update_layout()` permet de modifier tous les pramètres qui se trouvent dans les éléments du sous-dictionnaire **layout**\n",
    "\n",
    "La majorité des paramètres possibles est visible dans la figure que vous avez affiché, mais il en existe de nombreux autres, tous optionnels.\n",
    "La liste complète se trouve :\n",
    "- Sur la page https://plotly.com/python/reference/#scatter pour les courbes et les graphiques en points (*scatter plots*);\n",
    "- Sur la page https://plotly.com/python/reference/layout/ pour le *layout* (= la mise en page).\n",
    "\n",
    "> 🛈 Pour information, une documentation détaillée de ces aspects est disponible ici : https://plotly.com/python/creating-and-updating-figures/\n",
    "\n",
    "\n",
    "Reste une question importante : **commment faire concrètement pour modifier le rendu de la figure** ? 🤔\n",
    "\n",
    "Et bien, par exemple comme ceci ➡️"
   ]
  },
  {
   "cell_type": "code",
   "execution_count": null,
   "metadata": {},
   "outputs": [],
   "source": [
    "# ⚠️ update_traces() et update_layout() modifient la figure en place.\n",
    "# Cela signifie que la figure est modifiée directement, sans qu'il soit nécessaire de la réaffecter à une variable.\n",
    "\n",
    "# On souhaite que la ligne soit de couleur sable, en pointillés, et d'une épaisseur de 3 pixels.\n",
    "fig.update_traces(line_color=\"sandybrown\", # Un nom de couleur CSS (https://www.w3.org/wiki/CSS/Properties/color/keywords), ou un code couleur (hexadécimal, RGBA, HSLA, etc.)\n",
    "                  line_dash=\"dot\", # Style de ligne, au choix: 'solid', 'dot', 'dash', 'longdash', 'dashdot', 'longdashdot'\n",
    "                  line_width=3, # Epaisseur de la ligne, en pixels\n",
    "                  )"
   ]
  },
  {
   "cell_type": "markdown",
   "metadata": {},
   "source": [
    "> ⚠️ Dans l'appel à `update_traces`, notez la manière d'assigner la couleur de la ligne: Plotly permet de spécifier un chemin à l'intérieur des paramètres d'une *Figure* à l'aide du caractère `_` underscore. Ici `line_color` assigne en fait la valeur du champ `{'line': {'color': ...}}` dans le dictionnaire de la *Figure*."
   ]
  },
  {
   "cell_type": "markdown",
   "metadata": {},
   "source": [
    "✏️ **Q10.**\n",
    "\n",
    "Sachant tout cela :\n",
    "- Modifiez l'appel à `update_traces()` dans la cellule précédente pour cacher la légende, assez peu utile ici : `'showLegend'=False`\n",
    "- Dans la cellule suivante, enrichissez l'appel à  `update_layout()` pour que :\n",
    "    - le titre (`title`) de la figure soit \"Évolution de la population de X\", où X est le nom de la commune, donné par `commune_choisie.name`;\n",
    "    - le titre de l'axe des abscisses (`xaxis_title`) soit \"Années de recensement\";\n",
    "    - le titre de l'axe des ordonnées (`yaxis_title`) soit \"Population\";\n",
    "    - la couleur de fond de la figure (`plot_bgcolor`) soit 'ghostwhite'.\n",
    "    - le mode d'affichage des informations au survol de la souris (`hovermode`) soit 'x unified' (voir https://plotly.com/python/hover-text-and-formatting/, section *'*Unified hovermode*)"
   ]
  },
  {
   "cell_type": "code",
   "execution_count": null,
   "metadata": {},
   "outputs": [],
   "source": [
    "# 🏗️\n",
    "fig.update_layout(\n",
    "    title=...,  # Titre de la figure\n",
    "    xaxis_title=...,  # Titre de l'axe des abscisses\n",
    "    yaxis_title=...,  # Titre de l'axe des ordonnées\n",
    "    plot_bgcolor=...,  # Couleur de fond de la figure\n",
    "    hovermode=...,  # Mode de survol\n",
    ")"
   ]
  },
  {
   "cell_type": "markdown",
   "metadata": {},
   "source": [
    "##### Mise en fonction\n",
    "\n",
    "Pour l'application Dash finale nous aurons besoin de générer des graphique de communes à la volée.\n",
    "\n",
    "On peut faire cela en regroupant le code écrit dans la section 2 au sein d'une fonction Python `creer_courbe_population(commune: str)` qui prend en entrée un nom de commune et renvoie le graphique de son évolution démographique.\n",
    "\n",
    "✏️ **Q11.**\n",
    "\n",
    "Complétez la cellule suivante en copiant les morceaux de code des questions Q6, Q8, Q9, Q10"
   ]
  },
  {
   "cell_type": "code",
   "execution_count": null,
   "metadata": {},
   "outputs": [],
   "source": [
    "# 🏗️\n",
    "\n",
    "def creer_courbe_population(commune: str):\n",
    "    # Q6\n",
    "    commune_choisie = ...\n",
    "    \n",
    "    # Q8\n",
    "    commune_choisie_populations = ... \n",
    "    \n",
    "    # Q9\n",
    "    fig = px.line(...)\n",
    "    \n",
    "    # Q10 (cellule au dessus)\n",
    "    fig.update_traces(...)\n",
    "    \n",
    "    # Q10 (cellule en dessous)\n",
    "    fig.update_layout(...)\n",
    "    \n",
    "    # Retourne la figure\n",
    "    return fig\n",
    "\n",
    "\n",
    "# Vérifiez que la fonction renvoie bien une figure avec une commune de votre choix, par exemple Lyon.\n",
    "creer_courbe_population(\"Lyon\")"
   ]
  },
  {
   "cell_type": "markdown",
   "metadata": {},
   "source": [
    "## 2. Et maintenant, l'interface Web avec Dash\n",
    "\n",
    "Dash est plutôt adapté aux applications single Page. Il ne s'agit pas d'un framework Web généraliste (comme Flask), mais d'une surcouche sur Flask spécialisée pour réaliser des tableaux de bords.\n",
    "\n",
    "##### Import de dash\n",
    "\n",
    "Commençons par importer deux composant principaux de la bibliothèque dash : \n",
    "- la classe `Dash` qui sera votre application.\n",
    "- le module `html` qui permet de créer...des composants html.\n",
    "\n",
    "> 🛈Centralisez ensuite ici les imports d'autres composants de Dash. Vous aurez à enrichir cette liste au fil des questions."
   ]
  },
  {
   "cell_type": "code",
   "execution_count": null,
   "metadata": {},
   "outputs": [],
   "source": [
    "from dash import Dash, html"
   ]
  },
  {
   "cell_type": "markdown",
   "metadata": {},
   "source": [
    "##### Ma première application Dash\n",
    "\n",
    "Voici ci-dessous une application minimaliste qui permet de présenter les trois étapes essentielles de la création d'une application Dash :\n",
    "1. D'abord, on créer un objet Dash qui représente l'application\n",
    "2. Ensuite on compose la page Web en assemblant des composants. Dans l'exemple, on crée un composant html DIV dans lequel on place un élément de titre H1.\n",
    "Le code HTML produit sera donc :\n",
    "```html\n",
    "    <div>\n",
    "        <h1>Ma première application Dash !</h1>\n",
    "    </div>\n",
    "```\n",
    "3. Enfin on lance l'application.\n",
    "\n",
    "Exécutez la cellule pour voir ce que ça donne !"
   ]
  },
  {
   "cell_type": "code",
   "execution_count": null,
   "metadata": {},
   "outputs": [],
   "source": [
    "#################\n",
    "# ⚠️ ~.~.~.~.~.~ ⚠️\n",
    "# Cette cellule contiendra le code de l'application Dash, vous allez être amené à la compléter au fur et à mesure\n",
    "# et à l'exécuter régulièrement.\n",
    "#################\n",
    "\n",
    "# Étape 1 : Création de l'application Dash\n",
    "app = Dash(\"Ma première application Dash !\") # Crée une application Dash avec un titre\n",
    "\n",
    "# Étape 2 : Assemblage de l'application : on créer un contener HTML (DIV) contenant un titre de niveau 1 (H1).\n",
    "app.layout = html.Div(\n",
    "    children=[\n",
    "        html.H1(\"Ma première application Dash !\", id=\"titre\"), # id permet de donner un identifiant au composant HTML, et de le référencer dans d'autres composants de Dash.\n",
    "    ]\n",
    ")\n",
    "\n",
    "# Étape 3 : Exécution de l'application\n",
    "# Le mode debug permet d'afficher les erreurs plus clairement !\n",
    "app.run(jupyter_mode=\"inline\", debug=True) \n",
    "\n",
    "# 🛈 Notez que l'application est par défaut exécutée dans le notebook Jupyter (ici explicité par `jupyter_mode=\"inline\"`)\n",
    "# mais peut être exécutée dans un navigateur web en passant l'argument `jupyter_mode=\"tab\"` ou `jupyter_mode=\"external\"`.\n",
    "# https://dash.plotly.com/dash-in-jupyter\n"
   ]
  },
  {
   "cell_type": "markdown",
   "metadata": {},
   "source": [
    "##### Ajout de la figure créée\n",
    "\n",
    "Ajouter des composants graphiques de plotly est d'une facilité presque déconcertante.\n",
    "\n",
    "Pour cela il faut ajouter aux imports de Dash le module `dcc` (Dash Core Components). Editez la cellule contenant les imports de Dash en conséquence.\n",
    "\n",
    "Parmis les composants il y a la classe `dcc.Graph` qui permet de transformer n'importe quelle figure plotly en graphe affichable sur un navigateur par la biblothèque plotly.js, la version Javascript de plotly et qui est inclue dans Dash.\n",
    "\n",
    "La syntaxe est la suivante : \n",
    "```python\n",
    "    dcc.Graph(figure=<votre figure plolty>, id=<...>)\n",
    "```\n",
    "\n",
    "✏️ **Q12.**\n",
    "\n",
    "\n",
    "Modifiez la cellule précédente pour ajouter aux `children` du DIV un graphe dont la figure est produite par un appel à `creer_courbe_population()` :\n",
    "```python\n",
    "    # Par exemple Lyon\n",
    "    # Donnez un identifiant au composant. C'est un paramètre optionnel mais nous en aurons besoin plus tard\n",
    "    dcc.Graph(figure=creer_courbe_population(\"Lyon\"), id=\"courbe-population\")\n",
    "```\n",
    "\n",
    "Lancez ensuite l'application... c'est un peu magique, non ? 🤩\n"
   ]
  },
  {
   "cell_type": "markdown",
   "metadata": {},
   "source": [
    "##### Choisir graphiquement une commune\n",
    "\n",
    "Jusqu'ici la commune traitée est choisie \"en dur\" dans le code. Pour construire un tableau de bord pertinent il faudrait que l'utilisateur puisse choisir lui même. On peut par exemple lui permettre de choisir à l'aide d'une liste déroulante.\n",
    "\n",
    "Le composant \"liste déroulante\" de Dash se nomme `dcc.Dropdown` et son constructeur prend un paramètre `options` la liste de toutes les valeurs possibles.\n",
    "\n",
    "✏️ **Q13.**\n",
    "\n",
    "Ajoutez un composant ```dcc.Drowpdown``` au *layout* de l'application, entre le titre et le graphique. Les valeurs possibles sont tout simplement données par `communes.nom_1999`.\n",
    "```python\n",
    "    # À nouveau, donnez un identifiant au composant !\n",
    "    dcc.Dropdown(options=communes.index, id=\"dropdown-communes\")\n",
    "```\n",
    "> ⚠️ Presque 44 000 noms à charger, c'est beaucoup. Si cela ralentit trop ou fait planter votre navigateur ou Jupyter, réduiser le nombre de communes proposées le temps du développement : `communes.nom_1999[:100]` par exemple pour conserver les 100 premières communes, ou encore `communes.no_1999.sample(100)` pour sélectionner 100 communes aléatoirement.\n"
   ]
  },
  {
   "cell_type": "markdown",
   "metadata": {},
   "source": [
    "##### Interactions entre composants\n",
    "\n",
    "Que se passe t-il si vous choisissez une commune dans la liste déroulante ? Rien du tout ? 🤔  C'est tout à fait normal !\n",
    "Dash est un outil puissant mais il ne lit pas les pensées et ne sait pas par magie comment les composants doivent intéragir.\n",
    "En l'occurence, on aimerait que le graphique change quand on sélectionne une commune dans la liste déroulante.\n",
    "\n",
    "\n",
    "Heureusement, Dash propose un mécanisme extrêmement pratique pour faire intéragir des composants : les ***callbacks***.\n",
    "\n",
    "Un *callback* est une fonction qui sera automatiquement appellée losque Dash détecte un changement sur un composant.\n",
    "\n",
    "Pour pouvoir les utiliser, vous devez ajouter aux imports de dash les éléments suivants : `callbacks`, `Input`, `Output` . \n",
    "Ajouter cela à la liste des imports en début de section et exécutez la cellule d'imports.\n",
    "\n",
    "Voici la structure d'un `callback` qui remplace le titre de l'application par le nom d'une commune lorsqu'on la choisit dans le menu déroulant :"
   ]
  },
  {
   "cell_type": "code",
   "execution_count": null,
   "metadata": {},
   "outputs": [],
   "source": [
    "@app.callback(\n",
    "    Output(\"titre\", \"children\"), # L'attribut \"children\" du composant \"titre\" de type H1 correspond au texte affiché par le titre.\n",
    "    Input(\"dropdown-communes\", \"value\"),\n",
    ")\n",
    "def remplace_titre(commune: str): # commune est la valeur de l'attribut \"value\" de la liste déroulante \"dropdown-communes\"\n",
    "    # La valeur retournée par la fonction sera affectée à l'attribut \"text\" de composant spécifé dans Output.\n",
    "    return f\"{commune}\" if commune else \"Choisissez une commune\"\n",
    "\n",
    "# @app.callback() est un décorateur qui permet de lier une fonction à un événement dans l'application Dash.\n",
    "# L'idée est de lier une fonction à un événement dans l'application Dash, par exemple à un clic sur un bouton, ou à une modification d'une liste déroulante.\n",
    "# Un décorateur permet de modifier le comportement d'une fonction, ici de la lier à un événement dans l'application Dash.\n",
    "# Il s'agit d'un mécanisme avancé de Python, vous n'avez pas besoin de le comprendre en détail pour utiliser Dash.\n",
    "\n",
    "# L'important est de comprendre que @app.callback() permet de spécifier:\n",
    "# - Quels sont les événements qui déclenchent l'appel de la fonction (Input), ici le changement de valeur de la liste déroulante \"dropdown-communes\".\n",
    "# - Quels sont les éléments de l'application qui sont modifiés par la fonction (Output), ici le titre de niveau 1 \"titre\".\n",
    "\n",
    "# Le premier argument est l'élément de l'application modifié par la fonction, le second est l'attribut de cet élément modifié par la fonction\n",
    "# L'élément de l'application qui déclenche l'appel de la fonction, et l'attribut de cet élément qui est passé à la fonction"
   ]
  },
  {
   "cell_type": "markdown",
   "metadata": {},
   "source": [
    "✏️ **Q14.**\n",
    "\n",
    "\n",
    "Exécutez celle cellule puis relancez votre application en ré-executant la cellule de l'application.\n",
    "\n",
    "Choisissez une commune dans la liste déroulante et vérifiez que le titre change également !"
   ]
  },
  {
   "cell_type": "markdown",
   "metadata": {},
   "source": [
    "##### Afficher le graphique de la commune sélectionnée\n",
    "\n",
    "Reste donc à connecter le composant *Dropdown* au composant *Graph* afin de mettre à jour le graphique lorsqu'on choisit une commune dans la liste déroulante.\n",
    "\n",
    "✏️ **Q15.**\n",
    "\n",
    "Complétez la cellule suivante pour créer une nouvelle fonction callback `creer_graphique_selection_dropdown(commune: str)` qui sera chargé de générer un graĥique de population lorsqu'on choisit une commune dans la liste déroulante.\n",
    "\n",
    "Le code du callback à créér est très proche de celui testé au dessus, mais :\n",
    "- l'élément `Output` aura cette fois en paramètres le graphique `courbe-population`. La propriété à modifier sur ce graphique est `figure`.\n",
    "- la fonction callback doit retourner un nouveau graphique généré par la fonction `creer_courbe_population()`\n",
    "\n",
    "Une fois fait, exécutez la cellule, puis relancez l'application (en executant de nouveau la cellule de l'application).\n",
    "Vérifiez que votre callback fonctionne !"
   ]
  },
  {
   "cell_type": "code",
   "execution_count": null,
   "metadata": {},
   "outputs": [],
   "source": [
    "# 🏗️\n",
    "@app.callback(\n",
    "    Output(...), # 🏗️ Completez ici avec les bons paramètres\n",
    "    Input(\"dropdown-communes\", \"value\"),\n",
    ")\n",
    "def creer_graphique_selection_dropdown(commune: str):\n",
    "    return ... # Créez un graphique avec la fonction creer_courbe_population() et retournez-le."
   ]
  },
  {
   "cell_type": "markdown",
   "metadata": {},
   "source": [
    "### 🏅 C'est tout pour cette fois !\n",
    "\n",
    "J'espère que cette activité a été enrichissante.\n",
    "\n",
    "N'hésitez pas à donner rapidement votre avis anonyme 📢 via [ce formulaire 📝](forms.gle/MkwNfwRpG8B1wqb18) pour m'aider à l'améliorer.\n",
    "\n"
   ]
  },
  {
   "cell_type": "markdown",
   "metadata": {},
   "source": [
    "## 3. [BONUS] Ajout d'une carte\n",
    "\n",
    "Pour cette partie bonus, on utilisera et enrichira l'application dans la cellule ci-dessous.\n",
    "\n",
    "Le *layout* de celle-ci se compose d'un conteneur html DIV principal, lui-même composé de deux autres DIV qui feront office de \"panneaux\".\n",
    "Le premier s'affichera à gauche et contiendra la carte; le second à droite contiendra la liste déroulante et le graphique créé dans la partie 2.\n",
    "\n",
    "Notez comment on peut spécifier des éléments de style CSS pour les composants HTML.\n",
    "Ici, l'instruction CSS `\"display\": \"flex\"` permet d'organiser les DIV côte-à-côte."
   ]
  },
  {
   "cell_type": "code",
   "execution_count": null,
   "metadata": {},
   "outputs": [],
   "source": [
    "from dash import Dash, dcc, callback, Output, Input, Dash, html\n",
    "import plotly.express as px\n",
    "import pandas as pd\n",
    "\n",
    "communes = pd.read_csv('../data/communes_de_france.csv', index_col='gid').join(how='inner', other=pd.read_csv('../data/demographie_des_communes.csv', index_col='gid'))\n",
    "communes.set_index('nom_1999', inplace=True, drop=False)\n",
    "communes.head(1)"
   ]
  },
  {
   "cell_type": "code",
   "execution_count": null,
   "metadata": {},
   "outputs": [],
   "source": [
    "\n",
    "def creer_courbe_population(commune: str):\n",
    "    # Q6\n",
    "    commune_choisie = communes.loc[commune]\n",
    "    \n",
    "    # Q8\n",
    "    commune_choisie_populations = commune_choisie[\"1794\":\"1999\"]\n",
    "    \n",
    "    # Q9\n",
    "    fig = px.line(commune_choisie_populations)\n",
    "    \n",
    "    \n",
    "    # Retourne la figure\n",
    "    return fig"
   ]
  },
  {
   "cell_type": "code",
   "execution_count": null,
   "metadata": {},
   "outputs": [],
   "source": [
    "#################\n",
    "# ⚠️ ~.~.~.~.~.~ ⚠️\n",
    "# Cette cellule contiendra le code de l'application Dash bonus, vous allez être amené à la compléter au fur et à mesure\n",
    "# et à l'exécuter régulièrement.\n",
    "#################\n",
    "\n",
    "app_bonus = Dash(\"Co-visualisation graphe et carte\")\n",
    "\n",
    "#################\n",
    "# Layout\n",
    "\n",
    "app_bonus.layout = html.Div(\n",
    "    children=[\n",
    "        # Panneau de gauche, dédié à la carte\n",
    "        html.Div(children=[]),\n",
    "        # Panneau de droite, dédié aux graphiques des communes\n",
    "        html.Div(\n",
    "            children=[\n",
    "                html.H1(\"Données démographiques détaillées\", id=\"titre\"),\n",
    "                dcc.Dropdown(options=communes.index[:100], id=\"dropdown-communes\"),\n",
    "                dcc.Graph(figure=px.line(), id=\"courbe-population\"),\n",
    "            ]\n",
    "        ),\n",
    "    ],\n",
    "    style={\n",
    "        \"display\": \"flex\",  # Flexbox permet de placer les éléments en colonne, ici pour que les 2 DIV enfants soient côte à côte.\n",
    "        \"gap\": \"1em\",  # Espace entre les DIV enfants\n",
    "    },\n",
    ")\n",
    "\n",
    "#################\n",
    "# Callbacks\n",
    "\n",
    "\n",
    "@app_bonus.callback(\n",
    "    Output(\"courbe-population\", \"figure\"),\n",
    "    Input(\"dropdown-communes\", \"value\"),\n",
    "    prevent_initial_call=True,\n",
    ")\n",
    "def creer_graphique_selection_dropdown(commune: str):\n",
    "    return creer_courbe_population(commune) if commune else px.line()\n",
    "\n",
    "\n",
    "@callback(\n",
    "    Output(\n",
    "        \"titre\", \"children\"\n",
    "    ),  # L'attribut \"children\" du composant \"titre\" de type H1 correspond au texte affiché par le titre.\n",
    "    Input(\"dropdown-communes\", \"value\"),\n",
    ")\n",
    "def remplace_titre(\n",
    "    commune: str,\n",
    "):  # commune est la valeur de l'attribut \"value\" de la liste déroulante \"dropdown-communes\"\n",
    "    # La valeur retournée par la fonction sera affectée à l'attribut \"text\" de composant spécifé dans Output.\n",
    "    return f\"{commune}\" if commune else \"Choisissez une commune\"\n",
    "\n",
    "\n",
    "#################\n",
    "# Lancement de l'application\n",
    "app_bonus.run(\n",
    "    jupyter_mode=\"tab\", debug=True\n",
    ")  # Cette fois, on exécute l'application dans un nouvel onglet du navigateur."
   ]
  },
  {
   "cell_type": "markdown",
   "metadata": {},
   "source": [
    "✏️ **Q B.1.**\n",
    "\n",
    "Lancez l'application bonus pour vérifier qu'elle fonctionne correctement, avant de passer à la suite."
   ]
  },
  {
   "cell_type": "markdown",
   "metadata": {},
   "source": [
    "##### Ajout d'une carte de la population française à une année donnée\n",
    "\n",
    "\n",
    "La première partie de l'application donnait à voir le détail d'une commune et l'évolution de sa population.\n",
    "\n",
    "Maintenant, nous allons rajouter une carte montrant la population de toutes les communes à une date donnée.\n",
    "\n",
    "Plusieurs représentations sont possible, nous allons expérimenter ici une **carte de chaleur** : https://plotly.com/python/mapbox-density-heatmaps/\n",
    "\n",
    "Une carte de chaleur est une vue **lissée** d'un semi de points et mesure la **concentration** de points dans l'espace. Chaque point contribue à cette mesure avec un **poids** : un point ayant un poids de 5 compte comme s'il y avait 5 points superposés.\n",
    "\n",
    "Ici, les points sont bien sûr les communes, et leur poids la population communale !\n",
    "\n",
    "\n",
    "Le composant plotly pour créer de telles cartes se nomme `px.density_mapbox`. On peut le créer en passant les paramètres suivants :"
   ]
  },
  {
   "cell_type": "code",
   "execution_count": null,
   "metadata": {},
   "outputs": [],
   "source": [
    "px.density_mapbox(\n",
    "    communes, # DataFrame contenant toutes les données\n",
    "    lat=\"lat\", # Nom de la colonne contenant les latitudes\n",
    "    lon=\"lon\", # Nom de la colonne contenant les longitudes\n",
    "    z=\"1806\", # Nom de la colonne contenant les valeurs à afficher, ici par exemple \"1806\" pour la population en 1806\n",
    "    center=dict(lat=47, lon=2.4), # Coordonnées du centre de la carte\n",
    "    zoom=5, # Niveau de zoom inital de la carte, entre 1 (très éloigné) et 20 (très rapproché)\n",
    "    opacity=0.6, # Transparence des zones de densité, entre 0 (transparent) et 1 (opaque)\n",
    "    color_continuous_scale=\"thermal\",  # Palette de couleurs, par exemple \"viridis\", \"plasma\", \"inferno\", \"magma\", \"cividis\", \"thermal\", \"icefire\"\n",
    "    mapbox_style=\"carto-positron\", # Fond de carte, par exemple \"open-street-map\", \"carto-positron\", \"carto-darkmatter\", \"stamen-terrain\", \"\n",
    ")"
   ]
  },
  {
   "cell_type": "markdown",
   "metadata": {},
   "source": [
    "✏️ **Q B.2.**\n",
    "\n",
    "Créez une fonction `creer_carte_population(annee: str)` qui prend en entrée une année et renvoie la carte de la population pour cette année."
   ]
  },
  {
   "cell_type": "code",
   "execution_count": null,
   "metadata": {},
   "outputs": [],
   "source": [
    "# 🏗️\n",
    "def creer_carte_population(annee: int):\n",
    "    carte = ...\n",
    "    return carte"
   ]
  },
  {
   "cell_type": "markdown",
   "metadata": {},
   "source": [
    "✏️ **Q B.3.**\n",
    "\n",
    "\n",
    "Ajoutez un nouveau `dcc.Graph` au panneau de gauche de l'application, dont la figure est créée en appelant la fonction `creer_carte_population` avec une valeur fixée, par exemple '1794'."
   ]
  },
  {
   "cell_type": "markdown",
   "metadata": {},
   "source": [
    "##### Ajout d'une d'un slider temporel\n",
    "\n",
    "La carte créée est capable d'afficher la population à une date donnée, mais, de la même manière qu'un menu déroulant permettait de choisir une commune, ici on souhaiterait pouvoir choisir une année.\n",
    "\n",
    "On peut le faire de manière relativement ergonomique grace au composant Dash `dcc.Slider()` qui permettra d'avoir un curseur de sélection entre les différentes années disponibles.\n",
    "\n",
    "Pour cela il faut d'abord avoir une liste d'années, que l'on peut obtenir à partir de la liste des colonnes de la table `communes`"
   ]
  },
  {
   "cell_type": "code",
   "execution_count": null,
   "metadata": {},
   "outputs": [],
   "source": [
    "annees = communes.columns[12:].astype(int) # Liste des colonnes de population (=années), converties en entiers\n",
    "annees"
   ]
  },
  {
   "cell_type": "markdown",
   "metadata": {},
   "source": [
    "✏️ **Q B.4.**\n",
    "\n",
    "Ajoutez un composant Slider dans le *layout* de notre application à partir de ce modèle.\n",
    "\n",
    "```python\n",
    "dcc.Slider(\n",
    "    ..., # Date minimum : 1794 ou annees.min()\n",
    "    ..., # Date maxium : 1999 ou annees.max()\n",
    "    step=None, # Le pas du slider, ici None pour que le slider ne puisse pas être déplacé à des dates intermédiaires.\n",
    "    updatemode=\"drag\", # Les callbacks seront appelés à chaque déplacement du curseur. Par défaut, ils sont appelés à chaque relâchement du curseur.\n",
    "    id=\"slider-annnees\", # Identifiant du slider, pour le référencer dans les callbacks\n",
    ")\n",
    "```"
   ]
  },
  {
   "cell_type": "markdown",
   "metadata": {},
   "source": [
    "##### Interactions entre le *slider* temporel et la carte\n",
    "\n",
    "Enfin, on aimerait que la carte soit mise à jour lorsqu'on change la position du curseur sur le *slider*. Une fois de plus, nous allons avoir besoin d'un *callback*.\n",
    "\n",
    "Complétez la cellule suivante pour créer un callback `creer_carte_slider_temporel()` qui est déclenché à chaque changement du slider et qui renvoie une nouvelle carte pour l'année sélectionnée."
   ]
  },
  {
   "cell_type": "code",
   "execution_count": null,
   "metadata": {},
   "outputs": [],
   "source": [
    "@app_bonus.callback(\n",
    "    Output(\"carte-population\", \"figure\"), # En retour, on modifie la figure de la carte\n",
    "    Input(\"slider-annee\", \"value\"), # Le callback est déclenché par le changement de valeur du slider, qui est passé à la fonction.\n",
    "    prevent_initial_call=True # Cette option permet d'éviter que la fonction ne soit appelée lors du lancement de l'application.\n",
    ")\n",
    "def creer_carte_slider_temporel(annee: int):\n",
    "    ..."
   ]
  },
  {
   "cell_type": "markdown",
   "metadata": {},
   "source": [
    "Relancez l'application et vérifiez que tout fonctionne !"
   ]
  },
  {
   "cell_type": "markdown",
   "metadata": {},
   "source": [
    "#### 🏅🏅🏅 Bravo, vous êtes arrivés à la fin des bonus !\n",
    "\n",
    "J'espère que cette activité a été enrichissante.\n",
    "\n",
    "N'hésitez pas à donner rapidement votre avis anonyme 📢 via [ce formulaire 📝](forms.gle/MkwNfwRpG8B1wqb18) pour m'aider à l'améliorer.\n",
    "\n"
   ]
  }
 ],
 "metadata": {
  "kernelspec": {
   "display_name": "Python 3 (ipykernel)",
   "language": "python",
   "name": "python3"
  },
  "language_info": {
   "codemirror_mode": {
    "name": "ipython",
    "version": 3
   },
   "file_extension": ".py",
   "mimetype": "text/x-python",
   "name": "python",
   "nbconvert_exporter": "python",
   "pygments_lexer": "ipython3",
   "version": "3.10.12"
  }
 },
 "nbformat": 4,
 "nbformat_minor": 2
}
